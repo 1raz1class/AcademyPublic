{
  "nbformat": 4,
  "nbformat_minor": 0,
  "metadata": {
    "colab": {
      "provenance": [],
      "toc_visible": true,
      "authorship_tag": "ABX9TyN1Xox5gOgulC9ZfHR7+sOZ",
      "include_colab_link": true
    },
    "kernelspec": {
      "name": "python3",
      "display_name": "Python 3"
    },
    "language_info": {
      "name": "python"
    }
  },
  "cells": [
    {
      "cell_type": "markdown",
      "metadata": {
        "id": "view-in-github",
        "colab_type": "text"
      },
      "source": [
        "<a href=\"https://colab.research.google.com/github/lovedatascience1/AcademyPublic/blob/main/Files_Manipulation.ipynb\" target=\"_parent\"><img src=\"https://colab.research.google.com/assets/colab-badge.svg\" alt=\"Open In Colab\"/></a>"
      ]
    },
    {
      "cell_type": "code",
      "execution_count": 27,
      "metadata": {
        "id": "_NXz7PBlN_KU"
      },
      "outputs": [],
      "source": [
        "# Libraries\n",
        "import os\n",
        "import glob\n",
        "import shutil\n",
        "import pandas as pd"
      ]
    },
    {
      "cell_type": "code",
      "source": [
        "from google.colab import drive \n",
        "drive.mount('/content/drive')"
      ],
      "metadata": {
        "colab": {
          "base_uri": "https://localhost:8080/"
        },
        "id": "Q1CPUWQErNVy",
        "outputId": "30e91e20-3a95-41ba-e30d-79220ba281be"
      },
      "execution_count": null,
      "outputs": [
        {
          "output_type": "stream",
          "name": "stdout",
          "text": [
            "Drive already mounted at /content/drive; to attempt to forcibly remount, call drive.mount(\"/content/drive\", force_remount=True).\n"
          ]
        }
      ]
    },
    {
      "cell_type": "markdown",
      "source": [
        "# Path : Current working directory"
      ],
      "metadata": {
        "id": "vFP1tKOFshSY"
      }
    },
    {
      "cell_type": "markdown",
      "source": [],
      "metadata": {
        "id": "en_DITp5ss6x"
      }
    },
    {
      "cell_type": "code",
      "source": [
        "os.getcwd() # get current working directory"
      ],
      "metadata": {
        "colab": {
          "base_uri": "https://localhost:8080/",
          "height": 36
        },
        "id": "RQW0WobmsVDn",
        "outputId": "2dd4cfc4-39e3-4d2b-aa6d-8ced02cd218a"
      },
      "execution_count": null,
      "outputs": [
        {
          "output_type": "execute_result",
          "data": {
            "text/plain": [
              "'/content'"
            ],
            "application/vnd.google.colaboratory.intrinsic+json": {
              "type": "string"
            }
          },
          "metadata": {},
          "execution_count": 3
        }
      ]
    },
    {
      "cell_type": "code",
      "source": [
        "# if you want to change the present working directory then,\n",
        "\n",
        "os.chdir('/content/drive/My Drive/Excel_Automation')\n",
        "os.getcwd() # check the new current working directory"
      ],
      "metadata": {
        "colab": {
          "base_uri": "https://localhost:8080/",
          "height": 36
        },
        "id": "QCbpfsXurdV_",
        "outputId": "ae588df0-940e-47ba-f0bf-6969b1f51e53"
      },
      "execution_count": null,
      "outputs": [
        {
          "output_type": "execute_result",
          "data": {
            "text/plain": [
              "'/content/drive/My Drive/Excel_Automation'"
            ],
            "application/vnd.google.colaboratory.intrinsic+json": {
              "type": "string"
            }
          },
          "metadata": {},
          "execution_count": 4
        }
      ]
    },
    {
      "cell_type": "code",
      "source": [
        "# assign current working directory (`cwd`)\n",
        "cwd = os.getcwd()\n",
        "cwd"
      ],
      "metadata": {
        "colab": {
          "base_uri": "https://localhost:8080/",
          "height": 36
        },
        "id": "wNN4C39Op3GR",
        "outputId": "51833ffb-7372-48f0-f356-1f7035b87814"
      },
      "execution_count": null,
      "outputs": [
        {
          "output_type": "execute_result",
          "data": {
            "text/plain": [
              "'/content/drive/My Drive/Excel_Automation'"
            ],
            "application/vnd.google.colaboratory.intrinsic+json": {
              "type": "string"
            }
          },
          "metadata": {},
          "execution_count": 5
        }
      ]
    },
    {
      "cell_type": "code",
      "source": [
        "# List all files and directories in current directory\n",
        "os.listdir('.')"
      ],
      "metadata": {
        "colab": {
          "base_uri": "https://localhost:8080/"
        },
        "id": "DVtmJDK3tAUD",
        "outputId": "9dbdd796-ff93-46af-ae03-58e8cf59e0f4"
      },
      "execution_count": null,
      "outputs": [
        {
          "output_type": "execute_result",
          "data": {
            "text/plain": [
              "['Files_Manipulation.ipynb',\n",
              " 'UK.xlsx',\n",
              " 'DE.xlsx',\n",
              " 'FR.xlsx',\n",
              " 'Python.ipynb',\n",
              " 'Python',\n",
              " 'Folder']"
            ]
          },
          "metadata": {},
          "execution_count": 6
        }
      ]
    },
    {
      "cell_type": "code",
      "source": [
        "# list of all excel files in the working directory\n",
        "excel_files=[]\n",
        "for file in os.listdir(cwd):\n",
        "    if file.endswith('.xlsx'):\n",
        "            excel_files.append(file)\n",
        "            \n",
        "print( 'there are', len(excel_files), \"excel files: \", excel_files)"
      ],
      "metadata": {
        "colab": {
          "base_uri": "https://localhost:8080/"
        },
        "id": "pOhA88_hwXk7",
        "outputId": "dadf77ad-bc71-4106-c9bd-779250aab189"
      },
      "execution_count": null,
      "outputs": [
        {
          "output_type": "stream",
          "name": "stdout",
          "text": [
            "there are 3 excel files:  ['UK.xlsx', 'DE.xlsx', 'FR.xlsx']\n"
          ]
        }
      ]
    },
    {
      "cell_type": "code",
      "source": [
        "# check the absolute path of all excel files\n",
        "\n",
        "filenames = glob.glob(cwd + \"/*.xlsx\")\n",
        "print('File names with their paths:')\n",
        "for path in filenames:\n",
        "  print(path)"
      ],
      "metadata": {
        "colab": {
          "base_uri": "https://localhost:8080/"
        },
        "id": "T9-EafJPwlNw",
        "outputId": "c63e3279-c36a-4844-d5cd-ff60bf0311a6"
      },
      "execution_count": null,
      "outputs": [
        {
          "output_type": "stream",
          "name": "stdout",
          "text": [
            "File names with their paths:\n",
            "/content/drive/My Drive/Excel_Automation/UK.xlsx\n",
            "/content/drive/My Drive/Excel_Automation/DE.xlsx\n",
            "/content/drive/My Drive/Excel_Automation/FR.xlsx\n"
          ]
        }
      ]
    },
    {
      "cell_type": "markdown",
      "source": [
        "# Create New Folder"
      ],
      "metadata": {
        "id": "klW5vu46w_Kj"
      }
    },
    {
      "cell_type": "code",
      "source": [
        "# path to the directory\n",
        "fold = cwd + '/' + 'Python'\n",
        "# create directory\n",
        "os.makedirs(fold)\n",
        "fold"
      ],
      "metadata": {
        "colab": {
          "base_uri": "https://localhost:8080/",
          "height": 36
        },
        "id": "bFIMYI_UxCJ2",
        "outputId": "c5978b2d-6a0f-47bd-d622-8684a8b83add"
      },
      "execution_count": 10,
      "outputs": [
        {
          "output_type": "execute_result",
          "data": {
            "text/plain": [
              "'/content/drive/My Drive/Excel_Automation/Python'"
            ],
            "application/vnd.google.colaboratory.intrinsic+json": {
              "type": "string"
            }
          },
          "metadata": {},
          "execution_count": 10
        }
      ]
    },
    {
      "cell_type": "code",
      "source": [
        "# Create a folder in the folder\n",
        "other = cwd + '/' + 'New_Folder' + '/' +'Inner_folder' \n",
        "os.makedirs(other)\n",
        "other"
      ],
      "metadata": {
        "id": "_Oq-PpDbxE-t",
        "colab": {
          "base_uri": "https://localhost:8080/",
          "height": 36
        },
        "outputId": "0c1f70bd-602a-4f26-d8ae-3d98c58e9e2a"
      },
      "execution_count": 11,
      "outputs": [
        {
          "output_type": "execute_result",
          "data": {
            "text/plain": [
              "'/content/drive/My Drive/Excel_Automation/New_Folder/Inner_folder'"
            ],
            "application/vnd.google.colaboratory.intrinsic+json": {
              "type": "string"
            }
          },
          "metadata": {},
          "execution_count": 11
        }
      ]
    },
    {
      "cell_type": "markdown",
      "source": [
        "# Copy File\n"
      ],
      "metadata": {
        "id": "Jgviz2daz65q"
      }
    },
    {
      "cell_type": "code",
      "source": [
        "# create the folder where to paste files\n",
        "\n",
        "des = cwd + '/' + 'Folder'\n",
        "os.makedirs(des)\n",
        "\n",
        "# file that we want to copy : UK.xlsx\n",
        "src='/content/drive/MyDrive/Excel_Automation/UK.xlsx'\n",
        "\n",
        "# copy the file in the folder we want\n",
        "shutil.copy(src,des)"
      ],
      "metadata": {
        "id": "bWw3YvhHxguf",
        "colab": {
          "base_uri": "https://localhost:8080/",
          "height": 36
        },
        "outputId": "02676605-fb15-4cea-be8d-abbcaa30c7bf"
      },
      "execution_count": 24,
      "outputs": [
        {
          "output_type": "execute_result",
          "data": {
            "text/plain": [
              "'/content/drive/My Drive/Excel_Automation/Folder/UK.xlsx'"
            ],
            "application/vnd.google.colaboratory.intrinsic+json": {
              "type": "string"
            }
          },
          "metadata": {},
          "execution_count": 24
        }
      ]
    },
    {
      "cell_type": "code",
      "source": [
        "# file that we want to copy : FR.xlsx\n",
        "src='/content/drive/MyDrive/Excel_Automation/FR.xlsx'\n",
        "\n",
        "# copy the file in the folder we want\n",
        "shutil.copy(src,des)"
      ],
      "metadata": {
        "id": "wQKytxOX1SSm",
        "colab": {
          "base_uri": "https://localhost:8080/",
          "height": 36
        },
        "outputId": "2e2184fb-bd53-495b-c39b-2466249bca91"
      },
      "execution_count": 25,
      "outputs": [
        {
          "output_type": "execute_result",
          "data": {
            "text/plain": [
              "'/content/drive/My Drive/Excel_Automation/Folder/FR.xlsx'"
            ],
            "application/vnd.google.colaboratory.intrinsic+json": {
              "type": "string"
            }
          },
          "metadata": {},
          "execution_count": 25
        }
      ]
    },
    {
      "cell_type": "markdown",
      "source": [
        "# Move File"
      ],
      "metadata": {
        "id": "ot-XcKgS0vli"
      }
    },
    {
      "cell_type": "code",
      "source": [
        "shutil.move('/content/drive/MyDrive/Excel_Automation/New_Folder', # file/folder to copy\n",
        "           '/content/drive/MyDrive/Excel_Automation/Python') # folder where to copy"
      ],
      "metadata": {
        "id": "aRJI5bND0ySA",
        "colab": {
          "base_uri": "https://localhost:8080/",
          "height": 36
        },
        "outputId": "8a6785ab-a408-4e03-9f42-f6e0e6cd5bdb"
      },
      "execution_count": 14,
      "outputs": [
        {
          "output_type": "execute_result",
          "data": {
            "text/plain": [
              "'/content/drive/MyDrive/Excel_Automation/Python/New_Folder'"
            ],
            "application/vnd.google.colaboratory.intrinsic+json": {
              "type": "string"
            }
          },
          "metadata": {},
          "execution_count": 14
        }
      ]
    },
    {
      "cell_type": "markdown",
      "source": [
        "# Delete Files"
      ],
      "metadata": {
        "id": "mXx48d0W2427"
      }
    },
    {
      "cell_type": "code",
      "source": [
        "# delete a file\n",
        "os.unlink('/content/drive/MyDrive/Excel_Automation/Folder/UK.xlsx')"
      ],
      "metadata": {
        "id": "rOYRvWSr2a0q"
      },
      "execution_count": 15,
      "outputs": []
    },
    {
      "cell_type": "code",
      "source": [
        "# delete empty folder\n",
        "folder_to_remove= '/content/drive/My Drive/Excel_Automation/HR'\n",
        "os.makedirs(folder_to_remove)"
      ],
      "metadata": {
        "id": "DxLnN3ya3KWN"
      },
      "execution_count": 20,
      "outputs": []
    },
    {
      "cell_type": "code",
      "source": [
        "# delet empty folder\n",
        "os.rmdir(folder_to_remove)"
      ],
      "metadata": {
        "id": "OZLIU_na7Z6O"
      },
      "execution_count": 22,
      "outputs": []
    },
    {
      "cell_type": "code",
      "source": [
        "# delete NOT empty folder\n",
        "\n",
        "shutil.rmtree(r'/content/drive/MyDrive/Excel_Automation/Folder')"
      ],
      "metadata": {
        "id": "eV1B39qb3iCB"
      },
      "execution_count": 17,
      "outputs": []
    },
    {
      "cell_type": "code",
      "source": [
        "# check again the files that you have in the working directory\n",
        "\n",
        "os.listdir('.')"
      ],
      "metadata": {
        "id": "qGwt9i5N3z7R",
        "colab": {
          "base_uri": "https://localhost:8080/"
        },
        "outputId": "d020613b-0313-4453-c4fd-ba3a9ea8c84f"
      },
      "execution_count": 26,
      "outputs": [
        {
          "output_type": "execute_result",
          "data": {
            "text/plain": [
              "['Files_Manipulation.ipynb',\n",
              " 'UK.xlsx',\n",
              " 'DE.xlsx',\n",
              " 'FR.xlsx',\n",
              " 'Python.ipynb',\n",
              " 'Python',\n",
              " 'Folder']"
            ]
          },
          "metadata": {},
          "execution_count": 26
        }
      ]
    },
    {
      "cell_type": "code",
      "source": [],
      "metadata": {
        "id": "7QD9OsuK4xv_"
      },
      "execution_count": null,
      "outputs": []
    },
    {
      "cell_type": "markdown",
      "source": [
        "# Work with Excel Files\n"
      ],
      "metadata": {
        "id": "0fgLzMm584mg"
      }
    },
    {
      "cell_type": "code",
      "source": [
        "# set visible all columns\n",
        "pd.set_option('display.max_columns', None)"
      ],
      "metadata": {
        "id": "5Vlm5_yr89UT"
      },
      "execution_count": 28,
      "outputs": []
    },
    {
      "cell_type": "code",
      "source": [
        "# Create a folder where we'll store all files related to HR\n",
        "des = cwd + '/' + 'Consolidation_HR'\n",
        "os.makedirs(des)"
      ],
      "metadata": {
        "id": "Eml73ZwN9Z-V"
      },
      "execution_count": 29,
      "outputs": []
    },
    {
      "cell_type": "code",
      "source": [
        "# copy all HR excel in this folder\n",
        "\n",
        "# file that we want to copy : UK.xlsx\n",
        "src='/content/drive/MyDrive/Excel_Automation/UK.xlsx'\n",
        "\n",
        "# copy the file in the folder we want\n",
        "shutil.copy(src,des)\n",
        "\n",
        "# file that we want to copy : FR.xlsx\n",
        "src='/content/drive/MyDrive/Excel_Automation/FR.xlsx'\n",
        "\n",
        "# copy the file in the folder we want\n",
        "shutil.copy(src,des)\n",
        "\n",
        "# file that we want to copy : DE.xlsx\n",
        "src='/content/drive/MyDrive/Excel_Automation/DE.xlsx'\n",
        "\n",
        "# copy the file in the folder we want\n",
        "shutil.copy(src,des)"
      ],
      "metadata": {
        "colab": {
          "base_uri": "https://localhost:8080/",
          "height": 36
        },
        "id": "tLeGSVHg9xFP",
        "outputId": "e4cbc28a-9d05-4e43-9955-80872fda9039"
      },
      "execution_count": 42,
      "outputs": [
        {
          "output_type": "execute_result",
          "data": {
            "text/plain": [
              "'/content/drive/My Drive/Excel_Automation/Consolidation_HR/DE.xlsx'"
            ],
            "application/vnd.google.colaboratory.intrinsic+json": {
              "type": "string"
            }
          },
          "metadata": {},
          "execution_count": 42
        }
      ]
    },
    {
      "cell_type": "markdown",
      "source": [
        "##  Consolidate excel files into single on by sheet"
      ],
      "metadata": {
        "id": "oLAduAIy-vOr"
      }
    },
    {
      "cell_type": "markdown",
      "source": [
        "\n",
        "\n",
        "1.   Firs read each excel files and put them into pandas dataframe\n",
        "2.   Consolidate all excel files into a single excel with separate sheet by country\n",
        "\n"
      ],
      "metadata": {
        "id": "7EImbUAb-oBT"
      }
    },
    {
      "cell_type": "code",
      "source": [
        "# DE\n",
        "filename = 'Consolidation_HR/DE.xlsx'\n",
        "de = pd.read_excel(filename, index_col=None, header=0)\n",
        "de = pd.DataFrame(de)\n",
        "\n",
        "# check dataframe shape\n",
        "print('Dataframe Shape: ', de.shape)\n",
        "\n"
      ],
      "metadata": {
        "colab": {
          "base_uri": "https://localhost:8080/"
        },
        "id": "7qNp7_9l9ORl",
        "outputId": "d70608ac-ec18-4602-9cbf-24556043a769"
      },
      "execution_count": 33,
      "outputs": [
        {
          "output_type": "stream",
          "name": "stdout",
          "text": [
            "Dataframe Shape:  (673, 14)\n"
          ]
        }
      ]
    },
    {
      "cell_type": "code",
      "source": [
        "# add a column 'Country' to diferentiate the data in the consilidated dataframe\n",
        "de['Country']= 'DE'\n",
        "\n",
        "# check dataframe shape after adding the new column\n",
        "print('Dataframe Shape: ', de.shape)\n",
        "\n",
        "# visualize first rows\n",
        "de.head()"
      ],
      "metadata": {
        "colab": {
          "base_uri": "https://localhost:8080/",
          "height": 410
        },
        "id": "q-ZJeXh4_KBz",
        "outputId": "c216d697-348b-443b-b92c-e0a796fcadf0"
      },
      "execution_count": 34,
      "outputs": [
        {
          "output_type": "stream",
          "name": "stdout",
          "text": [
            "Dataframe Shape:  (673, 15)\n"
          ]
        },
        {
          "output_type": "execute_result",
          "data": {
            "text/plain": [
              "        Date        Name Mannschaft  Rohe Präsenz (min)  Pause (Minuten)  \\\n",
              "0 2022-04-12  Employee_1     TEAM_1                 102                0   \n",
              "1 2022-04-13  Employee_1     TEAM_1                 299                0   \n",
              "2 2022-04-19  Employee_1     TEAM_1                 478                0   \n",
              "3 2022-04-20  Employee_1     TEAM_1                 427                0   \n",
              "4 2022-04-21  Employee_1     TEAM_1                 482                0   \n",
              "\n",
              "   Nettopräsenz (Min.)  Behandlung (min)       DMT  Productiviy  \\\n",
              "0                  102                 4  00:02:08          0.6   \n",
              "1                  299               168  00:42:00          0.4   \n",
              "2                  478               275  00:16:12          2.0   \n",
              "3                  427               142  00:12:56          1.4   \n",
              "4                  482               129  00:16:12          1.0   \n",
              "\n",
              "   Processed tickets  Closed Tickets  FTE (processed)  FTE (presence)  \\\n",
              "0                  2               1             0.00            0.25   \n",
              "1                  4               2             0.50            0.75   \n",
              "2                 17              16             0.75            1.00   \n",
              "3                 11              10             0.50            1.00   \n",
              "4                  8               8             0.50            1.00   \n",
              "\n",
              "   FTE weighted Country  \n",
              "0          0.00      DE  \n",
              "1          0.50      DE  \n",
              "2          0.75      DE  \n",
              "3          0.50      DE  \n",
              "4          0.50      DE  "
            ],
            "text/html": [
              "\n",
              "  <div id=\"df-cabd772b-6798-4b3b-82b8-3e118a701819\">\n",
              "    <div class=\"colab-df-container\">\n",
              "      <div>\n",
              "<style scoped>\n",
              "    .dataframe tbody tr th:only-of-type {\n",
              "        vertical-align: middle;\n",
              "    }\n",
              "\n",
              "    .dataframe tbody tr th {\n",
              "        vertical-align: top;\n",
              "    }\n",
              "\n",
              "    .dataframe thead th {\n",
              "        text-align: right;\n",
              "    }\n",
              "</style>\n",
              "<table border=\"1\" class=\"dataframe\">\n",
              "  <thead>\n",
              "    <tr style=\"text-align: right;\">\n",
              "      <th></th>\n",
              "      <th>Date</th>\n",
              "      <th>Name</th>\n",
              "      <th>Mannschaft</th>\n",
              "      <th>Rohe Präsenz (min)</th>\n",
              "      <th>Pause (Minuten)</th>\n",
              "      <th>Nettopräsenz (Min.)</th>\n",
              "      <th>Behandlung (min)</th>\n",
              "      <th>DMT</th>\n",
              "      <th>Productiviy</th>\n",
              "      <th>Processed tickets</th>\n",
              "      <th>Closed Tickets</th>\n",
              "      <th>FTE (processed)</th>\n",
              "      <th>FTE (presence)</th>\n",
              "      <th>FTE weighted</th>\n",
              "      <th>Country</th>\n",
              "    </tr>\n",
              "  </thead>\n",
              "  <tbody>\n",
              "    <tr>\n",
              "      <th>0</th>\n",
              "      <td>2022-04-12</td>\n",
              "      <td>Employee_1</td>\n",
              "      <td>TEAM_1</td>\n",
              "      <td>102</td>\n",
              "      <td>0</td>\n",
              "      <td>102</td>\n",
              "      <td>4</td>\n",
              "      <td>00:02:08</td>\n",
              "      <td>0.6</td>\n",
              "      <td>2</td>\n",
              "      <td>1</td>\n",
              "      <td>0.00</td>\n",
              "      <td>0.25</td>\n",
              "      <td>0.00</td>\n",
              "      <td>DE</td>\n",
              "    </tr>\n",
              "    <tr>\n",
              "      <th>1</th>\n",
              "      <td>2022-04-13</td>\n",
              "      <td>Employee_1</td>\n",
              "      <td>TEAM_1</td>\n",
              "      <td>299</td>\n",
              "      <td>0</td>\n",
              "      <td>299</td>\n",
              "      <td>168</td>\n",
              "      <td>00:42:00</td>\n",
              "      <td>0.4</td>\n",
              "      <td>4</td>\n",
              "      <td>2</td>\n",
              "      <td>0.50</td>\n",
              "      <td>0.75</td>\n",
              "      <td>0.50</td>\n",
              "      <td>DE</td>\n",
              "    </tr>\n",
              "    <tr>\n",
              "      <th>2</th>\n",
              "      <td>2022-04-19</td>\n",
              "      <td>Employee_1</td>\n",
              "      <td>TEAM_1</td>\n",
              "      <td>478</td>\n",
              "      <td>0</td>\n",
              "      <td>478</td>\n",
              "      <td>275</td>\n",
              "      <td>00:16:12</td>\n",
              "      <td>2.0</td>\n",
              "      <td>17</td>\n",
              "      <td>16</td>\n",
              "      <td>0.75</td>\n",
              "      <td>1.00</td>\n",
              "      <td>0.75</td>\n",
              "      <td>DE</td>\n",
              "    </tr>\n",
              "    <tr>\n",
              "      <th>3</th>\n",
              "      <td>2022-04-20</td>\n",
              "      <td>Employee_1</td>\n",
              "      <td>TEAM_1</td>\n",
              "      <td>427</td>\n",
              "      <td>0</td>\n",
              "      <td>427</td>\n",
              "      <td>142</td>\n",
              "      <td>00:12:56</td>\n",
              "      <td>1.4</td>\n",
              "      <td>11</td>\n",
              "      <td>10</td>\n",
              "      <td>0.50</td>\n",
              "      <td>1.00</td>\n",
              "      <td>0.50</td>\n",
              "      <td>DE</td>\n",
              "    </tr>\n",
              "    <tr>\n",
              "      <th>4</th>\n",
              "      <td>2022-04-21</td>\n",
              "      <td>Employee_1</td>\n",
              "      <td>TEAM_1</td>\n",
              "      <td>482</td>\n",
              "      <td>0</td>\n",
              "      <td>482</td>\n",
              "      <td>129</td>\n",
              "      <td>00:16:12</td>\n",
              "      <td>1.0</td>\n",
              "      <td>8</td>\n",
              "      <td>8</td>\n",
              "      <td>0.50</td>\n",
              "      <td>1.00</td>\n",
              "      <td>0.50</td>\n",
              "      <td>DE</td>\n",
              "    </tr>\n",
              "  </tbody>\n",
              "</table>\n",
              "</div>\n",
              "      <button class=\"colab-df-convert\" onclick=\"convertToInteractive('df-cabd772b-6798-4b3b-82b8-3e118a701819')\"\n",
              "              title=\"Convert this dataframe to an interactive table.\"\n",
              "              style=\"display:none;\">\n",
              "        \n",
              "  <svg xmlns=\"http://www.w3.org/2000/svg\" height=\"24px\"viewBox=\"0 0 24 24\"\n",
              "       width=\"24px\">\n",
              "    <path d=\"M0 0h24v24H0V0z\" fill=\"none\"/>\n",
              "    <path d=\"M18.56 5.44l.94 2.06.94-2.06 2.06-.94-2.06-.94-.94-2.06-.94 2.06-2.06.94zm-11 1L8.5 8.5l.94-2.06 2.06-.94-2.06-.94L8.5 2.5l-.94 2.06-2.06.94zm10 10l.94 2.06.94-2.06 2.06-.94-2.06-.94-.94-2.06-.94 2.06-2.06.94z\"/><path d=\"M17.41 7.96l-1.37-1.37c-.4-.4-.92-.59-1.43-.59-.52 0-1.04.2-1.43.59L10.3 9.45l-7.72 7.72c-.78.78-.78 2.05 0 2.83L4 21.41c.39.39.9.59 1.41.59.51 0 1.02-.2 1.41-.59l7.78-7.78 2.81-2.81c.8-.78.8-2.07 0-2.86zM5.41 20L4 18.59l7.72-7.72 1.47 1.35L5.41 20z\"/>\n",
              "  </svg>\n",
              "      </button>\n",
              "      \n",
              "  <style>\n",
              "    .colab-df-container {\n",
              "      display:flex;\n",
              "      flex-wrap:wrap;\n",
              "      gap: 12px;\n",
              "    }\n",
              "\n",
              "    .colab-df-convert {\n",
              "      background-color: #E8F0FE;\n",
              "      border: none;\n",
              "      border-radius: 50%;\n",
              "      cursor: pointer;\n",
              "      display: none;\n",
              "      fill: #1967D2;\n",
              "      height: 32px;\n",
              "      padding: 0 0 0 0;\n",
              "      width: 32px;\n",
              "    }\n",
              "\n",
              "    .colab-df-convert:hover {\n",
              "      background-color: #E2EBFA;\n",
              "      box-shadow: 0px 1px 2px rgba(60, 64, 67, 0.3), 0px 1px 3px 1px rgba(60, 64, 67, 0.15);\n",
              "      fill: #174EA6;\n",
              "    }\n",
              "\n",
              "    [theme=dark] .colab-df-convert {\n",
              "      background-color: #3B4455;\n",
              "      fill: #D2E3FC;\n",
              "    }\n",
              "\n",
              "    [theme=dark] .colab-df-convert:hover {\n",
              "      background-color: #434B5C;\n",
              "      box-shadow: 0px 1px 3px 1px rgba(0, 0, 0, 0.15);\n",
              "      filter: drop-shadow(0px 1px 2px rgba(0, 0, 0, 0.3));\n",
              "      fill: #FFFFFF;\n",
              "    }\n",
              "  </style>\n",
              "\n",
              "      <script>\n",
              "        const buttonEl =\n",
              "          document.querySelector('#df-cabd772b-6798-4b3b-82b8-3e118a701819 button.colab-df-convert');\n",
              "        buttonEl.style.display =\n",
              "          google.colab.kernel.accessAllowed ? 'block' : 'none';\n",
              "\n",
              "        async function convertToInteractive(key) {\n",
              "          const element = document.querySelector('#df-cabd772b-6798-4b3b-82b8-3e118a701819');\n",
              "          const dataTable =\n",
              "            await google.colab.kernel.invokeFunction('convertToInteractive',\n",
              "                                                     [key], {});\n",
              "          if (!dataTable) return;\n",
              "\n",
              "          const docLinkHtml = 'Like what you see? Visit the ' +\n",
              "            '<a target=\"_blank\" href=https://colab.research.google.com/notebooks/data_table.ipynb>data table notebook</a>'\n",
              "            + ' to learn more about interactive tables.';\n",
              "          element.innerHTML = '';\n",
              "          dataTable['output_type'] = 'display_data';\n",
              "          await google.colab.output.renderOutput(dataTable, element);\n",
              "          const docLink = document.createElement('div');\n",
              "          docLink.innerHTML = docLinkHtml;\n",
              "          element.appendChild(docLink);\n",
              "        }\n",
              "      </script>\n",
              "    </div>\n",
              "  </div>\n",
              "  "
            ]
          },
          "metadata": {},
          "execution_count": 34
        }
      ]
    },
    {
      "cell_type": "code",
      "source": [
        "print('nb of columns: ', len(de.columns))\n",
        "print('nb of rows: ', len(de))\n",
        "de.columns"
      ],
      "metadata": {
        "colab": {
          "base_uri": "https://localhost:8080/"
        },
        "id": "EJdbhRHx-gDK",
        "outputId": "c435bec4-de4b-44c9-b6db-179fddca87c3"
      },
      "execution_count": 35,
      "outputs": [
        {
          "output_type": "stream",
          "name": "stdout",
          "text": [
            "nb of columns:  15\n",
            "nb of rows:  673\n"
          ]
        },
        {
          "output_type": "execute_result",
          "data": {
            "text/plain": [
              "Index(['Date', 'Name', 'Mannschaft', 'Rohe Präsenz (min)', 'Pause (Minuten)',\n",
              "       'Nettopräsenz (Min.)', 'Behandlung (min)', 'DMT', 'Productiviy',\n",
              "       'Processed tickets', 'Closed Tickets', 'FTE (processed)',\n",
              "       'FTE (presence)', 'FTE weighted', 'Country'],\n",
              "      dtype='object')"
            ]
          },
          "metadata": {},
          "execution_count": 35
        }
      ]
    },
    {
      "cell_type": "code",
      "source": [
        "# FR\n",
        "filename = 'Consolidation_HR/FR.xlsx'\n",
        "fr = pd.read_excel(filename, index_col=None, header=0)\n",
        "fr = pd.DataFrame(fr)\n",
        "\n",
        "# check dataframe shape\n",
        "print('Dataframe Shape: ', fr.shape)\n",
        "# add a column 'Country' to diferentiate the data in the consilidated dataframe\n",
        "\n",
        "fr['Country']= 'FR'\n",
        "# check dataframe shape after adding the new column\n",
        "print('Dataframe Shape: ', fr.shape)\n",
        "# visualize first rows\n",
        "fr.head()"
      ],
      "metadata": {
        "colab": {
          "base_uri": "https://localhost:8080/",
          "height": 428
        },
        "id": "8epCZNIl_Put",
        "outputId": "a9a520b2-5e50-4e4f-fa64-c93fb1466778"
      },
      "execution_count": 37,
      "outputs": [
        {
          "output_type": "stream",
          "name": "stdout",
          "text": [
            "Dataframe Shape:  (267, 14)\n",
            "Dataframe Shape:  (267, 15)\n"
          ]
        },
        {
          "output_type": "execute_result",
          "data": {
            "text/plain": [
              "        Date  Nom/Prénom  EQUIPE  Présence brute (min)  Pause (min)  \\\n",
              "0 2022-04-12  Employee_1  TEAM_1                   102            0   \n",
              "1 2022-04-19  Employee_1  TEAM_1                   478            0   \n",
              "2 2022-04-20  Employee_1  TEAM_1                   427            0   \n",
              "3 2022-04-21  Employee_1  TEAM_1                   482            0   \n",
              "4 2022-04-22  Employee_1  TEAM_1                   476            0   \n",
              "\n",
              "   Présente nette (min)  Traitement (min)       DMT  Productivité horaire  \\\n",
              "0                   102                 4  0.001481                   0.6   \n",
              "1                   478               275  0.011250                   2.0   \n",
              "2                   427               142  0.008981                   1.4   \n",
              "3                   482               129  0.011250                   1.0   \n",
              "4                   476               117  0.013634                   0.8   \n",
              "\n",
              "   Tickets traités  Tickets clos  FTE (traitement)  FTE (présence)  \\\n",
              "0                2             1              0.00            0.25   \n",
              "1               17            16              0.75            1.00   \n",
              "2               11            10              0.50            1.00   \n",
              "3                8             8              0.50            1.00   \n",
              "4                6             6              0.25            1.00   \n",
              "\n",
              "   FTE pondéré Country  \n",
              "0         0.00      FR  \n",
              "1         0.75      FR  \n",
              "2         0.50      FR  \n",
              "3         0.50      FR  \n",
              "4         0.25      FR  "
            ],
            "text/html": [
              "\n",
              "  <div id=\"df-6df4e071-12e0-4288-98d1-e988d4e2b698\">\n",
              "    <div class=\"colab-df-container\">\n",
              "      <div>\n",
              "<style scoped>\n",
              "    .dataframe tbody tr th:only-of-type {\n",
              "        vertical-align: middle;\n",
              "    }\n",
              "\n",
              "    .dataframe tbody tr th {\n",
              "        vertical-align: top;\n",
              "    }\n",
              "\n",
              "    .dataframe thead th {\n",
              "        text-align: right;\n",
              "    }\n",
              "</style>\n",
              "<table border=\"1\" class=\"dataframe\">\n",
              "  <thead>\n",
              "    <tr style=\"text-align: right;\">\n",
              "      <th></th>\n",
              "      <th>Date</th>\n",
              "      <th>Nom/Prénom</th>\n",
              "      <th>EQUIPE</th>\n",
              "      <th>Présence brute (min)</th>\n",
              "      <th>Pause (min)</th>\n",
              "      <th>Présente nette (min)</th>\n",
              "      <th>Traitement (min)</th>\n",
              "      <th>DMT</th>\n",
              "      <th>Productivité horaire</th>\n",
              "      <th>Tickets traités</th>\n",
              "      <th>Tickets clos</th>\n",
              "      <th>FTE (traitement)</th>\n",
              "      <th>FTE (présence)</th>\n",
              "      <th>FTE pondéré</th>\n",
              "      <th>Country</th>\n",
              "    </tr>\n",
              "  </thead>\n",
              "  <tbody>\n",
              "    <tr>\n",
              "      <th>0</th>\n",
              "      <td>2022-04-12</td>\n",
              "      <td>Employee_1</td>\n",
              "      <td>TEAM_1</td>\n",
              "      <td>102</td>\n",
              "      <td>0</td>\n",
              "      <td>102</td>\n",
              "      <td>4</td>\n",
              "      <td>0.001481</td>\n",
              "      <td>0.6</td>\n",
              "      <td>2</td>\n",
              "      <td>1</td>\n",
              "      <td>0.00</td>\n",
              "      <td>0.25</td>\n",
              "      <td>0.00</td>\n",
              "      <td>FR</td>\n",
              "    </tr>\n",
              "    <tr>\n",
              "      <th>1</th>\n",
              "      <td>2022-04-19</td>\n",
              "      <td>Employee_1</td>\n",
              "      <td>TEAM_1</td>\n",
              "      <td>478</td>\n",
              "      <td>0</td>\n",
              "      <td>478</td>\n",
              "      <td>275</td>\n",
              "      <td>0.011250</td>\n",
              "      <td>2.0</td>\n",
              "      <td>17</td>\n",
              "      <td>16</td>\n",
              "      <td>0.75</td>\n",
              "      <td>1.00</td>\n",
              "      <td>0.75</td>\n",
              "      <td>FR</td>\n",
              "    </tr>\n",
              "    <tr>\n",
              "      <th>2</th>\n",
              "      <td>2022-04-20</td>\n",
              "      <td>Employee_1</td>\n",
              "      <td>TEAM_1</td>\n",
              "      <td>427</td>\n",
              "      <td>0</td>\n",
              "      <td>427</td>\n",
              "      <td>142</td>\n",
              "      <td>0.008981</td>\n",
              "      <td>1.4</td>\n",
              "      <td>11</td>\n",
              "      <td>10</td>\n",
              "      <td>0.50</td>\n",
              "      <td>1.00</td>\n",
              "      <td>0.50</td>\n",
              "      <td>FR</td>\n",
              "    </tr>\n",
              "    <tr>\n",
              "      <th>3</th>\n",
              "      <td>2022-04-21</td>\n",
              "      <td>Employee_1</td>\n",
              "      <td>TEAM_1</td>\n",
              "      <td>482</td>\n",
              "      <td>0</td>\n",
              "      <td>482</td>\n",
              "      <td>129</td>\n",
              "      <td>0.011250</td>\n",
              "      <td>1.0</td>\n",
              "      <td>8</td>\n",
              "      <td>8</td>\n",
              "      <td>0.50</td>\n",
              "      <td>1.00</td>\n",
              "      <td>0.50</td>\n",
              "      <td>FR</td>\n",
              "    </tr>\n",
              "    <tr>\n",
              "      <th>4</th>\n",
              "      <td>2022-04-22</td>\n",
              "      <td>Employee_1</td>\n",
              "      <td>TEAM_1</td>\n",
              "      <td>476</td>\n",
              "      <td>0</td>\n",
              "      <td>476</td>\n",
              "      <td>117</td>\n",
              "      <td>0.013634</td>\n",
              "      <td>0.8</td>\n",
              "      <td>6</td>\n",
              "      <td>6</td>\n",
              "      <td>0.25</td>\n",
              "      <td>1.00</td>\n",
              "      <td>0.25</td>\n",
              "      <td>FR</td>\n",
              "    </tr>\n",
              "  </tbody>\n",
              "</table>\n",
              "</div>\n",
              "      <button class=\"colab-df-convert\" onclick=\"convertToInteractive('df-6df4e071-12e0-4288-98d1-e988d4e2b698')\"\n",
              "              title=\"Convert this dataframe to an interactive table.\"\n",
              "              style=\"display:none;\">\n",
              "        \n",
              "  <svg xmlns=\"http://www.w3.org/2000/svg\" height=\"24px\"viewBox=\"0 0 24 24\"\n",
              "       width=\"24px\">\n",
              "    <path d=\"M0 0h24v24H0V0z\" fill=\"none\"/>\n",
              "    <path d=\"M18.56 5.44l.94 2.06.94-2.06 2.06-.94-2.06-.94-.94-2.06-.94 2.06-2.06.94zm-11 1L8.5 8.5l.94-2.06 2.06-.94-2.06-.94L8.5 2.5l-.94 2.06-2.06.94zm10 10l.94 2.06.94-2.06 2.06-.94-2.06-.94-.94-2.06-.94 2.06-2.06.94z\"/><path d=\"M17.41 7.96l-1.37-1.37c-.4-.4-.92-.59-1.43-.59-.52 0-1.04.2-1.43.59L10.3 9.45l-7.72 7.72c-.78.78-.78 2.05 0 2.83L4 21.41c.39.39.9.59 1.41.59.51 0 1.02-.2 1.41-.59l7.78-7.78 2.81-2.81c.8-.78.8-2.07 0-2.86zM5.41 20L4 18.59l7.72-7.72 1.47 1.35L5.41 20z\"/>\n",
              "  </svg>\n",
              "      </button>\n",
              "      \n",
              "  <style>\n",
              "    .colab-df-container {\n",
              "      display:flex;\n",
              "      flex-wrap:wrap;\n",
              "      gap: 12px;\n",
              "    }\n",
              "\n",
              "    .colab-df-convert {\n",
              "      background-color: #E8F0FE;\n",
              "      border: none;\n",
              "      border-radius: 50%;\n",
              "      cursor: pointer;\n",
              "      display: none;\n",
              "      fill: #1967D2;\n",
              "      height: 32px;\n",
              "      padding: 0 0 0 0;\n",
              "      width: 32px;\n",
              "    }\n",
              "\n",
              "    .colab-df-convert:hover {\n",
              "      background-color: #E2EBFA;\n",
              "      box-shadow: 0px 1px 2px rgba(60, 64, 67, 0.3), 0px 1px 3px 1px rgba(60, 64, 67, 0.15);\n",
              "      fill: #174EA6;\n",
              "    }\n",
              "\n",
              "    [theme=dark] .colab-df-convert {\n",
              "      background-color: #3B4455;\n",
              "      fill: #D2E3FC;\n",
              "    }\n",
              "\n",
              "    [theme=dark] .colab-df-convert:hover {\n",
              "      background-color: #434B5C;\n",
              "      box-shadow: 0px 1px 3px 1px rgba(0, 0, 0, 0.15);\n",
              "      filter: drop-shadow(0px 1px 2px rgba(0, 0, 0, 0.3));\n",
              "      fill: #FFFFFF;\n",
              "    }\n",
              "  </style>\n",
              "\n",
              "      <script>\n",
              "        const buttonEl =\n",
              "          document.querySelector('#df-6df4e071-12e0-4288-98d1-e988d4e2b698 button.colab-df-convert');\n",
              "        buttonEl.style.display =\n",
              "          google.colab.kernel.accessAllowed ? 'block' : 'none';\n",
              "\n",
              "        async function convertToInteractive(key) {\n",
              "          const element = document.querySelector('#df-6df4e071-12e0-4288-98d1-e988d4e2b698');\n",
              "          const dataTable =\n",
              "            await google.colab.kernel.invokeFunction('convertToInteractive',\n",
              "                                                     [key], {});\n",
              "          if (!dataTable) return;\n",
              "\n",
              "          const docLinkHtml = 'Like what you see? Visit the ' +\n",
              "            '<a target=\"_blank\" href=https://colab.research.google.com/notebooks/data_table.ipynb>data table notebook</a>'\n",
              "            + ' to learn more about interactive tables.';\n",
              "          element.innerHTML = '';\n",
              "          dataTable['output_type'] = 'display_data';\n",
              "          await google.colab.output.renderOutput(dataTable, element);\n",
              "          const docLink = document.createElement('div');\n",
              "          docLink.innerHTML = docLinkHtml;\n",
              "          element.appendChild(docLink);\n",
              "        }\n",
              "      </script>\n",
              "    </div>\n",
              "  </div>\n",
              "  "
            ]
          },
          "metadata": {},
          "execution_count": 37
        }
      ]
    },
    {
      "cell_type": "code",
      "source": [
        "print('nb of columns: ', len(fr.columns))\n",
        "print('nb of rows: ', len(fr))\n",
        "\n",
        "fr.columns"
      ],
      "metadata": {
        "colab": {
          "base_uri": "https://localhost:8080/"
        },
        "id": "57uBJhum_dqR",
        "outputId": "296e72e7-e700-4ed7-f100-89b34bdb4d9f"
      },
      "execution_count": 38,
      "outputs": [
        {
          "output_type": "stream",
          "name": "stdout",
          "text": [
            "nb of columns:  15\n",
            "nb of rows:  267\n"
          ]
        },
        {
          "output_type": "execute_result",
          "data": {
            "text/plain": [
              "Index(['Date', 'Nom/Prénom', 'EQUIPE', 'Présence brute (min)', 'Pause (min)',\n",
              "       'Présente nette (min)', 'Traitement (min)', 'DMT',\n",
              "       'Productivité horaire', 'Tickets traités', 'Tickets clos',\n",
              "       'FTE (traitement)', 'FTE (présence)', 'FTE pondéré', 'Country'],\n",
              "      dtype='object')"
            ]
          },
          "metadata": {},
          "execution_count": 38
        }
      ]
    },
    {
      "cell_type": "code",
      "source": [
        "# UK\n",
        "filename = 'Consolidation_HR/UK.xlsx'\n",
        "uk = pd.read_excel(filename, index_col=None, header=0)\n",
        "uk = pd.DataFrame(uk)\n",
        "\n",
        "# check dataframe shape\n",
        "print('Dataframe Shape: ', uk.shape)\n",
        "\n",
        "# add a column 'Country' to diferentiate the data in the consilidated dataframe\n",
        "uk['Country']= 'UK'\n",
        "\n",
        "# check dataframe shape after adding the new column\n",
        "print('Dataframe Shape: ', uk.shape)\n",
        "\n",
        "# uk columns\n",
        "print(uk.columns)\n",
        "\n",
        "# visualize first rows\n",
        "uk.head()"
      ],
      "metadata": {
        "colab": {
          "base_uri": "https://localhost:8080/",
          "height": 521
        },
        "id": "qmpsNlOW_lzx",
        "outputId": "796e64fb-688c-44f8-f7cc-3703f26ba0ce"
      },
      "execution_count": 43,
      "outputs": [
        {
          "output_type": "stream",
          "name": "stdout",
          "text": [
            "Dataframe Shape:  (269, 14)\n",
            "Dataframe Shape:  (269, 15)\n",
            "Index(['Date', 'Name', 'Team', 'Raw Presence (min)', 'Pause (min)',\n",
            "       'Real Presence (min)', 'Treatment (min)', 'DMT', 'Productivity hours',\n",
            "       'Processed Tickets ', 'Closed Tickets ', 'FTE ', 'FTE (presence)',\n",
            "       'FTE weighted', 'Country'],\n",
            "      dtype='object')\n"
          ]
        },
        {
          "output_type": "execute_result",
          "data": {
            "text/plain": [
              "        Date        Name    Team  Raw Presence (min)  Pause (min)  \\\n",
              "0 2022-04-12  Employee_1  TEAM_1               102.0          0.0   \n",
              "1 2022-04-19  Employee_1  TEAM_1               478.0          0.0   \n",
              "2 2022-04-20  Employee_1  TEAM_1                 4.0          0.0   \n",
              "3 2022-04-21  Employee_1  TEAM_1               482.0          0.0   \n",
              "4 2022-04-22  Employee_1  TEAM_1               476.0          0.0   \n",
              "\n",
              "   Real Presence (min)  Treatment (min)       DMT  Productivity hours  \\\n",
              "0                102.0              4.0  0.001481                 0.6   \n",
              "1                478.0            275.0  0.011250                 2.0   \n",
              "2                427.0            142.0  0.008981                 1.4   \n",
              "3                482.0            129.0  0.011250                 1.0   \n",
              "4                476.0            117.0  0.013634                 0.8   \n",
              "\n",
              "   Processed Tickets   Closed Tickets   FTE   FTE (presence)  FTE weighted  \\\n",
              "0                 2.0              1.0  0.00            0.25          0.00   \n",
              "1                17.0             16.0  0.75            1.00          0.75   \n",
              "2                11.0             10.0  0.50            1.00          0.50   \n",
              "3                 8.0              8.0  0.50            1.00          0.50   \n",
              "4                 6.0              6.0  0.25            1.00          0.25   \n",
              "\n",
              "  Country  \n",
              "0      UK  \n",
              "1      UK  \n",
              "2      UK  \n",
              "3      UK  \n",
              "4      UK  "
            ],
            "text/html": [
              "\n",
              "  <div id=\"df-dc0b107d-29eb-4f44-8bfa-b46d54f92b0c\">\n",
              "    <div class=\"colab-df-container\">\n",
              "      <div>\n",
              "<style scoped>\n",
              "    .dataframe tbody tr th:only-of-type {\n",
              "        vertical-align: middle;\n",
              "    }\n",
              "\n",
              "    .dataframe tbody tr th {\n",
              "        vertical-align: top;\n",
              "    }\n",
              "\n",
              "    .dataframe thead th {\n",
              "        text-align: right;\n",
              "    }\n",
              "</style>\n",
              "<table border=\"1\" class=\"dataframe\">\n",
              "  <thead>\n",
              "    <tr style=\"text-align: right;\">\n",
              "      <th></th>\n",
              "      <th>Date</th>\n",
              "      <th>Name</th>\n",
              "      <th>Team</th>\n",
              "      <th>Raw Presence (min)</th>\n",
              "      <th>Pause (min)</th>\n",
              "      <th>Real Presence (min)</th>\n",
              "      <th>Treatment (min)</th>\n",
              "      <th>DMT</th>\n",
              "      <th>Productivity hours</th>\n",
              "      <th>Processed Tickets</th>\n",
              "      <th>Closed Tickets</th>\n",
              "      <th>FTE</th>\n",
              "      <th>FTE (presence)</th>\n",
              "      <th>FTE weighted</th>\n",
              "      <th>Country</th>\n",
              "    </tr>\n",
              "  </thead>\n",
              "  <tbody>\n",
              "    <tr>\n",
              "      <th>0</th>\n",
              "      <td>2022-04-12</td>\n",
              "      <td>Employee_1</td>\n",
              "      <td>TEAM_1</td>\n",
              "      <td>102.0</td>\n",
              "      <td>0.0</td>\n",
              "      <td>102.0</td>\n",
              "      <td>4.0</td>\n",
              "      <td>0.001481</td>\n",
              "      <td>0.6</td>\n",
              "      <td>2.0</td>\n",
              "      <td>1.0</td>\n",
              "      <td>0.00</td>\n",
              "      <td>0.25</td>\n",
              "      <td>0.00</td>\n",
              "      <td>UK</td>\n",
              "    </tr>\n",
              "    <tr>\n",
              "      <th>1</th>\n",
              "      <td>2022-04-19</td>\n",
              "      <td>Employee_1</td>\n",
              "      <td>TEAM_1</td>\n",
              "      <td>478.0</td>\n",
              "      <td>0.0</td>\n",
              "      <td>478.0</td>\n",
              "      <td>275.0</td>\n",
              "      <td>0.011250</td>\n",
              "      <td>2.0</td>\n",
              "      <td>17.0</td>\n",
              "      <td>16.0</td>\n",
              "      <td>0.75</td>\n",
              "      <td>1.00</td>\n",
              "      <td>0.75</td>\n",
              "      <td>UK</td>\n",
              "    </tr>\n",
              "    <tr>\n",
              "      <th>2</th>\n",
              "      <td>2022-04-20</td>\n",
              "      <td>Employee_1</td>\n",
              "      <td>TEAM_1</td>\n",
              "      <td>4.0</td>\n",
              "      <td>0.0</td>\n",
              "      <td>427.0</td>\n",
              "      <td>142.0</td>\n",
              "      <td>0.008981</td>\n",
              "      <td>1.4</td>\n",
              "      <td>11.0</td>\n",
              "      <td>10.0</td>\n",
              "      <td>0.50</td>\n",
              "      <td>1.00</td>\n",
              "      <td>0.50</td>\n",
              "      <td>UK</td>\n",
              "    </tr>\n",
              "    <tr>\n",
              "      <th>3</th>\n",
              "      <td>2022-04-21</td>\n",
              "      <td>Employee_1</td>\n",
              "      <td>TEAM_1</td>\n",
              "      <td>482.0</td>\n",
              "      <td>0.0</td>\n",
              "      <td>482.0</td>\n",
              "      <td>129.0</td>\n",
              "      <td>0.011250</td>\n",
              "      <td>1.0</td>\n",
              "      <td>8.0</td>\n",
              "      <td>8.0</td>\n",
              "      <td>0.50</td>\n",
              "      <td>1.00</td>\n",
              "      <td>0.50</td>\n",
              "      <td>UK</td>\n",
              "    </tr>\n",
              "    <tr>\n",
              "      <th>4</th>\n",
              "      <td>2022-04-22</td>\n",
              "      <td>Employee_1</td>\n",
              "      <td>TEAM_1</td>\n",
              "      <td>476.0</td>\n",
              "      <td>0.0</td>\n",
              "      <td>476.0</td>\n",
              "      <td>117.0</td>\n",
              "      <td>0.013634</td>\n",
              "      <td>0.8</td>\n",
              "      <td>6.0</td>\n",
              "      <td>6.0</td>\n",
              "      <td>0.25</td>\n",
              "      <td>1.00</td>\n",
              "      <td>0.25</td>\n",
              "      <td>UK</td>\n",
              "    </tr>\n",
              "  </tbody>\n",
              "</table>\n",
              "</div>\n",
              "      <button class=\"colab-df-convert\" onclick=\"convertToInteractive('df-dc0b107d-29eb-4f44-8bfa-b46d54f92b0c')\"\n",
              "              title=\"Convert this dataframe to an interactive table.\"\n",
              "              style=\"display:none;\">\n",
              "        \n",
              "  <svg xmlns=\"http://www.w3.org/2000/svg\" height=\"24px\"viewBox=\"0 0 24 24\"\n",
              "       width=\"24px\">\n",
              "    <path d=\"M0 0h24v24H0V0z\" fill=\"none\"/>\n",
              "    <path d=\"M18.56 5.44l.94 2.06.94-2.06 2.06-.94-2.06-.94-.94-2.06-.94 2.06-2.06.94zm-11 1L8.5 8.5l.94-2.06 2.06-.94-2.06-.94L8.5 2.5l-.94 2.06-2.06.94zm10 10l.94 2.06.94-2.06 2.06-.94-2.06-.94-.94-2.06-.94 2.06-2.06.94z\"/><path d=\"M17.41 7.96l-1.37-1.37c-.4-.4-.92-.59-1.43-.59-.52 0-1.04.2-1.43.59L10.3 9.45l-7.72 7.72c-.78.78-.78 2.05 0 2.83L4 21.41c.39.39.9.59 1.41.59.51 0 1.02-.2 1.41-.59l7.78-7.78 2.81-2.81c.8-.78.8-2.07 0-2.86zM5.41 20L4 18.59l7.72-7.72 1.47 1.35L5.41 20z\"/>\n",
              "  </svg>\n",
              "      </button>\n",
              "      \n",
              "  <style>\n",
              "    .colab-df-container {\n",
              "      display:flex;\n",
              "      flex-wrap:wrap;\n",
              "      gap: 12px;\n",
              "    }\n",
              "\n",
              "    .colab-df-convert {\n",
              "      background-color: #E8F0FE;\n",
              "      border: none;\n",
              "      border-radius: 50%;\n",
              "      cursor: pointer;\n",
              "      display: none;\n",
              "      fill: #1967D2;\n",
              "      height: 32px;\n",
              "      padding: 0 0 0 0;\n",
              "      width: 32px;\n",
              "    }\n",
              "\n",
              "    .colab-df-convert:hover {\n",
              "      background-color: #E2EBFA;\n",
              "      box-shadow: 0px 1px 2px rgba(60, 64, 67, 0.3), 0px 1px 3px 1px rgba(60, 64, 67, 0.15);\n",
              "      fill: #174EA6;\n",
              "    }\n",
              "\n",
              "    [theme=dark] .colab-df-convert {\n",
              "      background-color: #3B4455;\n",
              "      fill: #D2E3FC;\n",
              "    }\n",
              "\n",
              "    [theme=dark] .colab-df-convert:hover {\n",
              "      background-color: #434B5C;\n",
              "      box-shadow: 0px 1px 3px 1px rgba(0, 0, 0, 0.15);\n",
              "      filter: drop-shadow(0px 1px 2px rgba(0, 0, 0, 0.3));\n",
              "      fill: #FFFFFF;\n",
              "    }\n",
              "  </style>\n",
              "\n",
              "      <script>\n",
              "        const buttonEl =\n",
              "          document.querySelector('#df-dc0b107d-29eb-4f44-8bfa-b46d54f92b0c button.colab-df-convert');\n",
              "        buttonEl.style.display =\n",
              "          google.colab.kernel.accessAllowed ? 'block' : 'none';\n",
              "\n",
              "        async function convertToInteractive(key) {\n",
              "          const element = document.querySelector('#df-dc0b107d-29eb-4f44-8bfa-b46d54f92b0c');\n",
              "          const dataTable =\n",
              "            await google.colab.kernel.invokeFunction('convertToInteractive',\n",
              "                                                     [key], {});\n",
              "          if (!dataTable) return;\n",
              "\n",
              "          const docLinkHtml = 'Like what you see? Visit the ' +\n",
              "            '<a target=\"_blank\" href=https://colab.research.google.com/notebooks/data_table.ipynb>data table notebook</a>'\n",
              "            + ' to learn more about interactive tables.';\n",
              "          element.innerHTML = '';\n",
              "          dataTable['output_type'] = 'display_data';\n",
              "          await google.colab.output.renderOutput(dataTable, element);\n",
              "          const docLink = document.createElement('div');\n",
              "          docLink.innerHTML = docLinkHtml;\n",
              "          element.appendChild(docLink);\n",
              "        }\n",
              "      </script>\n",
              "    </div>\n",
              "  </div>\n",
              "  "
            ]
          },
          "metadata": {},
          "execution_count": 43
        }
      ]
    },
    {
      "cell_type": "markdown",
      "source": [
        "Create an excel file where country would be on a separate sheet"
      ],
      "metadata": {
        "id": "1PfPXAglA_5-"
      }
    },
    {
      "cell_type": "code",
      "source": [
        "# create excel writer\n",
        "writer = pd.ExcelWriter('Consolidation_HR/Consolidated_by_sheet.xlsx')\n",
        "# write dataframe to excel sheet named 'marks'\n",
        "uk.to_excel(writer, 'UK')\n",
        "fr.to_excel(writer, 'FR')\n",
        "de.to_excel(writer, 'DE')\n",
        "# save the excel file\n",
        "writer.save()\n",
        "writer.close()"
      ],
      "metadata": {
        "id": "m9lLicSB_rER"
      },
      "execution_count": 45,
      "outputs": []
    },
    {
      "cell_type": "code",
      "source": [],
      "metadata": {
        "id": "RyLObXdTBH1N"
      },
      "execution_count": null,
      "outputs": []
    }
  ]
}