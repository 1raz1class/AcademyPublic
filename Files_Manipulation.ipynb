{
  "nbformat": 4,
  "nbformat_minor": 0,
  "metadata": {
    "colab": {
      "provenance": [],
      "toc_visible": true,
      "authorship_tag": "ABX9TyNKGwqlfQJxldQWs5hcBqfh",
      "include_colab_link": true
    },
    "kernelspec": {
      "name": "python3",
      "display_name": "Python 3"
    },
    "language_info": {
      "name": "python"
    }
  },
  "cells": [
    {
      "cell_type": "markdown",
      "metadata": {
        "id": "view-in-github",
        "colab_type": "text"
      },
      "source": [
        "<a href=\"https://colab.research.google.com/github/lovedatascience1/AcademyPublic/blob/main/Files_Manipulation.ipynb\" target=\"_parent\"><img src=\"https://colab.research.google.com/assets/colab-badge.svg\" alt=\"Open In Colab\"/></a>"
      ]
    },
    {
      "cell_type": "code",
      "execution_count": 1,
      "metadata": {
        "id": "_NXz7PBlN_KU"
      },
      "outputs": [],
      "source": [
        "# Libraries\n",
        "import os\n",
        "import glob\n",
        "import shutil\n"
      ]
    },
    {
      "cell_type": "code",
      "source": [
        "from google.colab import drive \n",
        "drive.mount('/content/drive')"
      ],
      "metadata": {
        "colab": {
          "base_uri": "https://localhost:8080/"
        },
        "id": "Q1CPUWQErNVy",
        "outputId": "bbbe00b3-aa3c-4f72-c06d-1987a4ed1da8"
      },
      "execution_count": 5,
      "outputs": [
        {
          "output_type": "stream",
          "name": "stdout",
          "text": [
            "Mounted at /content/drive\n"
          ]
        }
      ]
    },
    {
      "cell_type": "markdown",
      "source": [
        "# Path : Current working directory"
      ],
      "metadata": {
        "id": "vFP1tKOFshSY"
      }
    },
    {
      "cell_type": "markdown",
      "source": [],
      "metadata": {
        "id": "en_DITp5ss6x"
      }
    },
    {
      "cell_type": "code",
      "source": [
        "os.getcwd() # get current working directory"
      ],
      "metadata": {
        "colab": {
          "base_uri": "https://localhost:8080/",
          "height": 36
        },
        "id": "RQW0WobmsVDn",
        "outputId": "ad53d9cf-3411-4d20-f48f-45fe3bf85ae8"
      },
      "execution_count": 14,
      "outputs": [
        {
          "output_type": "execute_result",
          "data": {
            "text/plain": [
              "'/content/drive/MyDrive/Excel_Automation'"
            ],
            "application/vnd.google.colaboratory.intrinsic+json": {
              "type": "string"
            }
          },
          "metadata": {},
          "execution_count": 14
        }
      ]
    },
    {
      "cell_type": "code",
      "source": [
        "# if you want to change the present working directory then,\n",
        "\n",
        "os.chdir('/content/drive/My Drive/Excel_Automation')\n",
        "os.getcwd() # check the new current working directory"
      ],
      "metadata": {
        "id": "QCbpfsXurdV_"
      },
      "execution_count": 15,
      "outputs": []
    },
    {
      "cell_type": "code",
      "source": [
        "# assign current working directory (`cwd`)\n",
        "cwd = os.getcwd()\n",
        "cwd"
      ],
      "metadata": {
        "colab": {
          "base_uri": "https://localhost:8080/",
          "height": 36
        },
        "id": "wNN4C39Op3GR",
        "outputId": "52ac0ac3-9b20-4093-ea6b-8eb8dceb51ec"
      },
      "execution_count": 17,
      "outputs": [
        {
          "output_type": "execute_result",
          "data": {
            "text/plain": [
              "'/content/drive/MyDrive/Excel_Automation'"
            ],
            "application/vnd.google.colaboratory.intrinsic+json": {
              "type": "string"
            }
          },
          "metadata": {},
          "execution_count": 17
        }
      ]
    },
    {
      "cell_type": "code",
      "source": [
        "# List all files and directories in current directory\n",
        "os.listdir('.')"
      ],
      "metadata": {
        "colab": {
          "base_uri": "https://localhost:8080/"
        },
        "id": "DVtmJDK3tAUD",
        "outputId": "3221dfa8-a345-403c-fb01-5f29e0e429df"
      },
      "execution_count": 18,
      "outputs": [
        {
          "output_type": "execute_result",
          "data": {
            "text/plain": [
              "['Files_Manipulation.ipynb', 'UK.xlsx', 'DE.xlsx', 'FR.xlsx']"
            ]
          },
          "metadata": {},
          "execution_count": 18
        }
      ]
    },
    {
      "cell_type": "code",
      "source": [
        "# list of all excel files in the working directory\n",
        "excel_files=[]\n",
        "for file in os.listdir(cwd):\n",
        "    if file.endswith('.xlsx'):\n",
        "            excel_files.append(file)\n",
        "            \n",
        "print( 'there are', len(excel_files), \"excel files: \", excel_files)"
      ],
      "metadata": {
        "colab": {
          "base_uri": "https://localhost:8080/"
        },
        "id": "pOhA88_hwXk7",
        "outputId": "40edc5e5-0d2d-434f-81d9-a6f848d5925b"
      },
      "execution_count": 22,
      "outputs": [
        {
          "output_type": "stream",
          "name": "stdout",
          "text": [
            "there are 3 excel files:  ['UK.xlsx', 'DE.xlsx', 'FR.xlsx']\n"
          ]
        }
      ]
    },
    {
      "cell_type": "code",
      "source": [
        "# check the absolute path of all excel files\n",
        "\n",
        "filenames = glob.glob(cwd + \"/*.xlsx\")\n",
        "print('File names with their paths:')\n",
        "for path in filenames:\n",
        "  print(path)"
      ],
      "metadata": {
        "colab": {
          "base_uri": "https://localhost:8080/"
        },
        "id": "T9-EafJPwlNw",
        "outputId": "565dc323-25d2-406d-984c-e51c75b5532b"
      },
      "execution_count": 34,
      "outputs": [
        {
          "output_type": "stream",
          "name": "stdout",
          "text": [
            "File names with their paths:\n",
            "/content/drive/MyDrive/Excel_Automation/UK.xlsx\n",
            "/content/drive/MyDrive/Excel_Automation/DE.xlsx\n",
            "/content/drive/MyDrive/Excel_Automation/FR.xlsx\n"
          ]
        }
      ]
    },
    {
      "cell_type": "markdown",
      "source": [
        "# Create New Folder"
      ],
      "metadata": {
        "id": "klW5vu46w_Kj"
      }
    },
    {
      "cell_type": "code",
      "source": [
        "# path to the directory\n",
        "fold = cwd + '/' + 'Python'\n",
        "# create directory\n",
        "os.makedirs(fold)\n",
        "fold"
      ],
      "metadata": {
        "id": "bFIMYI_UxCJ2"
      },
      "execution_count": 38,
      "outputs": []
    },
    {
      "cell_type": "code",
      "source": [],
      "metadata": {
        "colab": {
          "base_uri": "https://localhost:8080/",
          "height": 36
        },
        "id": "3R5qvPAH2LuX",
        "outputId": "acb82724-6ffd-4931-b109-223495713a35"
      },
      "execution_count": 39,
      "outputs": [
        {
          "output_type": "execute_result",
          "data": {
            "text/plain": [
              "'/content/drive/MyDrive/Excel_Automation/Python'"
            ],
            "application/vnd.google.colaboratory.intrinsic+json": {
              "type": "string"
            }
          },
          "metadata": {},
          "execution_count": 39
        }
      ]
    },
    {
      "cell_type": "code",
      "source": [
        "# Create a folder in the folder\n",
        "other = cwd + '/' + 'New_Folder' + '/' +'Inner_folder' \n",
        "os.makedirs(other)\n",
        "other"
      ],
      "metadata": {
        "colab": {
          "base_uri": "https://localhost:8080/",
          "height": 36
        },
        "id": "_Oq-PpDbxE-t",
        "outputId": "4ae3b1a7-e30f-4aa4-8a88-cd310687854f"
      },
      "execution_count": 29,
      "outputs": [
        {
          "output_type": "execute_result",
          "data": {
            "text/plain": [
              "'/content/drive/MyDrive/Excel_Automation/New_Folder/Inner_folder'"
            ],
            "application/vnd.google.colaboratory.intrinsic+json": {
              "type": "string"
            }
          },
          "metadata": {},
          "execution_count": 29
        }
      ]
    },
    {
      "cell_type": "markdown",
      "source": [
        "# Copy File\n"
      ],
      "metadata": {
        "id": "Jgviz2daz65q"
      }
    },
    {
      "cell_type": "code",
      "source": [
        "# create the folder where to paste files\n",
        "\n",
        "des = cwd + '/' + 'Folder'\n",
        "os.makedirs(des)\n",
        "\n",
        "# file that we want to copy : UK.xlsx\n",
        "src='/content/drive/MyDrive/Excel_Automation/UK.xlsx'\n",
        "\n",
        "# copy the file in the folder we want\n",
        "shutil.copy(src,des)"
      ],
      "metadata": {
        "colab": {
          "base_uri": "https://localhost:8080/",
          "height": 36
        },
        "id": "bWw3YvhHxguf",
        "outputId": "17605816-c5bd-4a01-cd7c-03bc3e88b4d8"
      },
      "execution_count": 35,
      "outputs": [
        {
          "output_type": "execute_result",
          "data": {
            "text/plain": [
              "'/content/drive/MyDrive/Excel_Automation/Folder/UK.xlsx'"
            ],
            "application/vnd.google.colaboratory.intrinsic+json": {
              "type": "string"
            }
          },
          "metadata": {},
          "execution_count": 35
        }
      ]
    },
    {
      "cell_type": "code",
      "source": [
        "# file that we want to copy : FR.xlsx\n",
        "src='/content/drive/MyDrive/Excel_Automation/FR.xlsx'\n",
        "\n",
        "# copy the file in the folder we want\n",
        "shutil.copy(src,des)"
      ],
      "metadata": {
        "colab": {
          "base_uri": "https://localhost:8080/",
          "height": 36
        },
        "id": "wQKytxOX1SSm",
        "outputId": "149d3989-0caf-4e2b-fa63-a068d190c64e"
      },
      "execution_count": 36,
      "outputs": [
        {
          "output_type": "execute_result",
          "data": {
            "text/plain": [
              "'/content/drive/MyDrive/Excel_Automation/Folder/FR.xlsx'"
            ],
            "application/vnd.google.colaboratory.intrinsic+json": {
              "type": "string"
            }
          },
          "metadata": {},
          "execution_count": 36
        }
      ]
    },
    {
      "cell_type": "markdown",
      "source": [
        "# Move File"
      ],
      "metadata": {
        "id": "ot-XcKgS0vli"
      }
    },
    {
      "cell_type": "code",
      "source": [
        "shutil.move('/content/drive/MyDrive/Excel_Automation/New_Folder', # file/folder to copy\n",
        "           '/content/drive/MyDrive/Excel_Automation/Python') # folder where to copy"
      ],
      "metadata": {
        "colab": {
          "base_uri": "https://localhost:8080/",
          "height": 36
        },
        "id": "aRJI5bND0ySA",
        "outputId": "8c385800-e133-4fad-fcf3-ffe2c2ceef4b"
      },
      "execution_count": 40,
      "outputs": [
        {
          "output_type": "execute_result",
          "data": {
            "text/plain": [
              "'/content/drive/MyDrive/Excel_Automation/Python/New_Folder'"
            ],
            "application/vnd.google.colaboratory.intrinsic+json": {
              "type": "string"
            }
          },
          "metadata": {},
          "execution_count": 40
        }
      ]
    },
    {
      "cell_type": "markdown",
      "source": [
        "# Delete Files"
      ],
      "metadata": {
        "id": "mXx48d0W2427"
      }
    },
    {
      "cell_type": "code",
      "source": [
        "# delete a file\n",
        "os.unlink('/content/drive/MyDrive/Excel_Automation/Folder/UK.xlsx')"
      ],
      "metadata": {
        "id": "rOYRvWSr2a0q"
      },
      "execution_count": 41,
      "outputs": []
    },
    {
      "cell_type": "code",
      "source": [
        "# delete empty folder\n",
        "os.rmdir('/content/drive/MyDrive/Excel_Automation/HR')"
      ],
      "metadata": {
        "id": "DxLnN3ya3KWN"
      },
      "execution_count": 42,
      "outputs": []
    },
    {
      "cell_type": "code",
      "source": [
        "# delete NOT empty folder\n",
        "\n",
        "shutil.rmtree(r'/content/drive/MyDrive/Excel_Automation/Folder')"
      ],
      "metadata": {
        "id": "eV1B39qb3iCB"
      },
      "execution_count": 43,
      "outputs": []
    },
    {
      "cell_type": "code",
      "source": [
        "# check again the files that you have in the working directory\n",
        "\n",
        "os.listdir('.')"
      ],
      "metadata": {
        "colab": {
          "base_uri": "https://localhost:8080/"
        },
        "id": "qGwt9i5N3z7R",
        "outputId": "d4da9f08-c06f-4f58-8e5d-237c2faaeb12"
      },
      "execution_count": 45,
      "outputs": [
        {
          "output_type": "execute_result",
          "data": {
            "text/plain": [
              "['Files_Manipulation.ipynb', 'UK.xlsx', 'DE.xlsx', 'FR.xlsx']"
            ]
          },
          "metadata": {},
          "execution_count": 45
        }
      ]
    },
    {
      "cell_type": "code",
      "source": [],
      "metadata": {
        "id": "7QD9OsuK4xv_"
      },
      "execution_count": null,
      "outputs": []
    }
  ]
}