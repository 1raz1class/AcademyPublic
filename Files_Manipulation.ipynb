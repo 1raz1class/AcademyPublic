{
  "nbformat": 4,
  "nbformat_minor": 0,
  "metadata": {
    "colab": {
      "provenance": [],
      "toc_visible": true,
      "authorship_tag": "ABX9TyMphQIFI3szdZVXW7d4lYhY",
      "include_colab_link": true
    },
    "kernelspec": {
      "name": "python3",
      "display_name": "Python 3"
    },
    "language_info": {
      "name": "python"
    }
  },
  "cells": [
    {
      "cell_type": "markdown",
      "metadata": {
        "id": "view-in-github",
        "colab_type": "text"
      },
      "source": [
        "<a href=\"https://colab.research.google.com/github/lovedatascience1/AcademyPublic/blob/main/Files_Manipulation.ipynb\" target=\"_parent\"><img src=\"https://colab.research.google.com/assets/colab-badge.svg\" alt=\"Open In Colab\"/></a>"
      ]
    },
    {
      "cell_type": "code",
      "execution_count": 1,
      "metadata": {
        "id": "_NXz7PBlN_KU"
      },
      "outputs": [],
      "source": [
        "# Libraries\n",
        "import os\n",
        "import glob\n",
        "import shutil\n",
        "import pandas as pd"
      ]
    },
    {
      "cell_type": "code",
      "source": [
        "from google.colab import drive \n",
        "drive.mount('/content/drive')"
      ],
      "metadata": {
        "colab": {
          "base_uri": "https://localhost:8080/"
        },
        "id": "Q1CPUWQErNVy",
        "outputId": "bbbe00b3-aa3c-4f72-c06d-1987a4ed1da8"
      },
      "execution_count": 5,
      "outputs": [
        {
          "output_type": "stream",
          "name": "stdout",
          "text": [
            "Mounted at /content/drive\n"
          ]
        }
      ]
    },
    {
      "cell_type": "markdown",
      "source": [
        "# Path"
      ],
      "metadata": {
        "id": "vFP1tKOFshSY"
      }
    },
    {
      "cell_type": "markdown",
      "source": [
        "## Current working directory"
      ],
      "metadata": {
        "id": "en_DITp5ss6x"
      }
    },
    {
      "cell_type": "code",
      "source": [
        "os.getcwd() # get current working directory"
      ],
      "metadata": {
        "colab": {
          "base_uri": "https://localhost:8080/",
          "height": 36
        },
        "id": "RQW0WobmsVDn",
        "outputId": "ad53d9cf-3411-4d20-f48f-45fe3bf85ae8"
      },
      "execution_count": 14,
      "outputs": [
        {
          "output_type": "execute_result",
          "data": {
            "text/plain": [
              "'/content/drive/MyDrive/Excel_Automation'"
            ],
            "application/vnd.google.colaboratory.intrinsic+json": {
              "type": "string"
            }
          },
          "metadata": {},
          "execution_count": 14
        }
      ]
    },
    {
      "cell_type": "code",
      "source": [
        "# if you want to change the present working directory then,\n",
        "\n",
        "os.chdir('/content/drive/My Drive/Excel_Automation')\n",
        "os.getcwd() # check the new current working directory"
      ],
      "metadata": {
        "id": "QCbpfsXurdV_"
      },
      "execution_count": 15,
      "outputs": []
    },
    {
      "cell_type": "code",
      "source": [
        "# assing current working directory (`cwd`)\n",
        "cwd = os.getcwd()\n",
        "cwd"
      ],
      "metadata": {
        "colab": {
          "base_uri": "https://localhost:8080/",
          "height": 36
        },
        "id": "wNN4C39Op3GR",
        "outputId": "52ac0ac3-9b20-4093-ea6b-8eb8dceb51ec"
      },
      "execution_count": 17,
      "outputs": [
        {
          "output_type": "execute_result",
          "data": {
            "text/plain": [
              "'/content/drive/MyDrive/Excel_Automation'"
            ],
            "application/vnd.google.colaboratory.intrinsic+json": {
              "type": "string"
            }
          },
          "metadata": {},
          "execution_count": 17
        }
      ]
    },
    {
      "cell_type": "code",
      "source": [],
      "metadata": {
        "id": "DVtmJDK3tAUD"
      },
      "execution_count": null,
      "outputs": []
    }
  ]
}