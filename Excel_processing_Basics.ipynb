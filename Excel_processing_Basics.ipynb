{
  "nbformat": 4,
  "nbformat_minor": 0,
  "metadata": {
    "colab": {
      "provenance": [],
      "toc_visible": true,
      "authorship_tag": "ABX9TyN+6lQa8eKOE3K6L+S6XLd+",
      "include_colab_link": true
    },
    "kernelspec": {
      "name": "python3",
      "display_name": "Python 3"
    },
    "language_info": {
      "name": "python"
    }
  },
  "cells": [
    {
      "cell_type": "markdown",
      "metadata": {
        "id": "view-in-github",
        "colab_type": "text"
      },
      "source": [
        "<a href=\"https://colab.research.google.com/github/lovedatascience1/AcademyPublic/blob/main/Excel_processing_Basics.ipynb\" target=\"_parent\"><img src=\"https://colab.research.google.com/assets/colab-badge.svg\" alt=\"Open In Colab\"/></a>"
      ]
    },
    {
      "cell_type": "markdown",
      "source": [
        "Libraries"
      ],
      "metadata": {
        "id": "cFV3kjaG7QDS"
      }
    },
    {
      "cell_type": "code",
      "execution_count": 1,
      "metadata": {
        "id": "NUL7Y1AA6KoA"
      },
      "outputs": [],
      "source": [
        "import pandas as pd\n",
        "import os\n",
        "\n",
        "from openpyxl.workbook import Workbook\n",
        "from openpyxl import load_workbook"
      ]
    },
    {
      "cell_type": "code",
      "source": [
        "# current working directory\n",
        "os.getcwd()"
      ],
      "metadata": {
        "colab": {
          "base_uri": "https://localhost:8080/",
          "height": 36
        },
        "id": "iJ12oISx7h0g",
        "outputId": "54bb3559-cccc-4372-b1bc-2b30943dbf6d"
      },
      "execution_count": 2,
      "outputs": [
        {
          "output_type": "execute_result",
          "data": {
            "text/plain": [
              "'/content'"
            ],
            "application/vnd.google.colaboratory.intrinsic+json": {
              "type": "string"
            }
          },
          "metadata": {},
          "execution_count": 2
        }
      ]
    },
    {
      "cell_type": "code",
      "source": [
        "# change working dorectory for Excel_Automation\n",
        "\n",
        "from google.colab import drive \n",
        "drive.mount('/content/drive')\n",
        "\n",
        "os.chdir('/content/drive/My Drive/Excel_Automation')\n",
        "os.getcwd() # check the new current working directory"
      ],
      "metadata": {
        "colab": {
          "base_uri": "https://localhost:8080/",
          "height": 55
        },
        "id": "NzYoDtsT7v1u",
        "outputId": "6a2838fb-2417-4f38-b48d-7bdf362f0915"
      },
      "execution_count": 3,
      "outputs": [
        {
          "output_type": "stream",
          "name": "stdout",
          "text": [
            "Drive already mounted at /content/drive; to attempt to forcibly remount, call drive.mount(\"/content/drive\", force_remount=True).\n"
          ]
        },
        {
          "output_type": "execute_result",
          "data": {
            "text/plain": [
              "'/content/drive/My Drive/Excel_Automation'"
            ],
            "application/vnd.google.colaboratory.intrinsic+json": {
              "type": "string"
            }
          },
          "metadata": {},
          "execution_count": 3
        }
      ]
    },
    {
      "cell_type": "code",
      "source": [
        "# assign current working directory (`cwd`)\n",
        "cwd = os.getcwd()\n",
        "cwd"
      ],
      "metadata": {
        "colab": {
          "base_uri": "https://localhost:8080/",
          "height": 36
        },
        "id": "UKNAfGE18YMN",
        "outputId": "99272d38-be13-4486-a4b3-2e7d2f72a6c2"
      },
      "execution_count": 4,
      "outputs": [
        {
          "output_type": "execute_result",
          "data": {
            "text/plain": [
              "'/content/drive/My Drive/Excel_Automation'"
            ],
            "application/vnd.google.colaboratory.intrinsic+json": {
              "type": "string"
            }
          },
          "metadata": {},
          "execution_count": 4
        }
      ]
    },
    {
      "cell_type": "code",
      "source": [
        "# check files present in curent directory\n",
        "os.listdir()"
      ],
      "metadata": {
        "colab": {
          "base_uri": "https://localhost:8080/"
        },
        "id": "tRij6sKm8eyc",
        "outputId": "7352f05e-83dc-4dcd-99cc-439c5c0a2e8c"
      },
      "execution_count": 5,
      "outputs": [
        {
          "output_type": "execute_result",
          "data": {
            "text/plain": [
              "['DE.xlsx',\n",
              " 'FR.xlsx',\n",
              " 'Groceries.xlsx',\n",
              " 'Python',\n",
              " 'Folder',\n",
              " 'Consolidation_HR',\n",
              " 'Consolidation_HR\\\\Consolidated_by_sheet.xlsx',\n",
              " 'UK.xlsx',\n",
              " 'Excel_processing_Basics.ipynb',\n",
              " 'Files_Manipulation.ipynb',\n",
              " 'Python.ipynb',\n",
              " 'Groceries_1.xlsx',\n",
              " 'Groceries_Formated.xlsx']"
            ]
          },
          "metadata": {},
          "execution_count": 5
        }
      ]
    },
    {
      "cell_type": "markdown",
      "source": [
        "# First steps"
      ],
      "metadata": {
        "id": "J0-8YY6lAV_C"
      }
    },
    {
      "cell_type": "markdown",
      "source": [
        "# Nouvelle section"
      ],
      "metadata": {
        "id": "cHbAfJ6dLmfP"
      }
    },
    {
      "cell_type": "markdown",
      "source": [
        "Steps\n",
        "\n",
        "\n",
        "1.   Create / Load workbook\n",
        "2.   Worksheets\n",
        "3. Cell\n",
        "4. Column / Row\n",
        "5. Range"
      ],
      "metadata": {
        "id": "adIJenap7Vdc"
      }
    },
    {
      "cell_type": "markdown",
      "source": [
        "Workbook"
      ],
      "metadata": {
        "id": "eudazeQq9edg"
      }
    },
    {
      "cell_type": "code",
      "source": [
        "# create workbook object\n",
        "wb = Workbook()"
      ],
      "metadata": {
        "id": "KuNCrkDI7O7O"
      },
      "execution_count": 6,
      "outputs": []
    },
    {
      "cell_type": "code",
      "source": [
        "# load excel workbook\n",
        "wb = load_workbook('Groceries.xlsx') # relative path\n",
        "wb"
      ],
      "metadata": {
        "colab": {
          "base_uri": "https://localhost:8080/"
        },
        "id": "DnK4c4ir7eyq",
        "outputId": "2706e828-9650-4704-9636-17deead94ff5"
      },
      "execution_count": 7,
      "outputs": [
        {
          "output_type": "execute_result",
          "data": {
            "text/plain": [
              "<openpyxl.workbook.workbook.Workbook at 0x7f5732367c50>"
            ]
          },
          "metadata": {},
          "execution_count": 7
        }
      ]
    },
    {
      "cell_type": "markdown",
      "source": [
        "Worksheets"
      ],
      "metadata": {
        "id": "BiwfcMZv9hVn"
      }
    },
    {
      "cell_type": "code",
      "source": [
        "# check the sheetnames\n",
        "sheets = wb.sheetnames\n",
        "sheets"
      ],
      "metadata": {
        "colab": {
          "base_uri": "https://localhost:8080/"
        },
        "id": "y_0zaWf380ZK",
        "outputId": "96e24dbe-4d2b-456f-e071-066d16de1525"
      },
      "execution_count": 8,
      "outputs": [
        {
          "output_type": "execute_result",
          "data": {
            "text/plain": [
              "['Groceries', 'Prices', 'Price_tracking']"
            ]
          },
          "metadata": {},
          "execution_count": 8
        }
      ]
    },
    {
      "cell_type": "code",
      "source": [
        "# grab a sheet by name\n",
        "ws = wb['Groceries']\n",
        "print(ws.title)\n",
        "# grab sheet by nb\n",
        "ws_1 = wb[sheets[0]]\n",
        "ws_1.title"
      ],
      "metadata": {
        "colab": {
          "base_uri": "https://localhost:8080/",
          "height": 55
        },
        "id": "BKiyYAPZ84cP",
        "outputId": "1f9d00d0-5270-4eba-c962-673e36c7c7c8"
      },
      "execution_count": 9,
      "outputs": [
        {
          "output_type": "stream",
          "name": "stdout",
          "text": [
            "Groceries\n"
          ]
        },
        {
          "output_type": "execute_result",
          "data": {
            "text/plain": [
              "'Groceries'"
            ],
            "application/vnd.google.colaboratory.intrinsic+json": {
              "type": "string"
            }
          },
          "metadata": {},
          "execution_count": 9
        }
      ]
    },
    {
      "cell_type": "markdown",
      "source": [
        "Cell\n"
      ],
      "metadata": {
        "id": "W97gr7jW9vql"
      }
    },
    {
      "cell_type": "code",
      "source": [
        "# print cell A1 from the sheet\n",
        "# be aware of the difference\n",
        "\n",
        "print(ws['A1'])\n",
        "print(ws['A1'].value)"
      ],
      "metadata": {
        "colab": {
          "base_uri": "https://localhost:8080/"
        },
        "id": "YcDXi_hc9ABX",
        "outputId": "7334e547-79cb-4b88-a83f-0988d948a028"
      },
      "execution_count": 10,
      "outputs": [
        {
          "output_type": "stream",
          "name": "stdout",
          "text": [
            "<Cell 'Groceries'.A1>\n",
            "Name\n"
          ]
        }
      ]
    },
    {
      "cell_type": "markdown",
      "source": [
        "Column / Row"
      ],
      "metadata": {
        "id": "Ljg8clVj-IAb"
      }
    },
    {
      "cell_type": "code",
      "source": [
        "# column\n",
        "column_a = ws['A']\n",
        "print('We obtain a tuple: ' )\n",
        "print('Only cell references without values... ' )\n",
        "column_a"
      ],
      "metadata": {
        "colab": {
          "base_uri": "https://localhost:8080/"
        },
        "id": "ugD6qVo693fy",
        "outputId": "abcfc6c9-969b-47c6-94f6-d6bf6a17f66e"
      },
      "execution_count": 11,
      "outputs": [
        {
          "output_type": "stream",
          "name": "stdout",
          "text": [
            "We obtain a tuple: \n",
            "Only cell references without values... \n"
          ]
        },
        {
          "output_type": "execute_result",
          "data": {
            "text/plain": [
              "(<Cell 'Groceries'.A1>,\n",
              " <Cell 'Groceries'.A2>,\n",
              " <Cell 'Groceries'.A3>,\n",
              " <Cell 'Groceries'.A4>,\n",
              " <Cell 'Groceries'.A5>,\n",
              " <Cell 'Groceries'.A6>,\n",
              " <Cell 'Groceries'.A7>,\n",
              " <Cell 'Groceries'.A8>,\n",
              " <Cell 'Groceries'.A9>,\n",
              " <Cell 'Groceries'.A10>,\n",
              " <Cell 'Groceries'.A11>)"
            ]
          },
          "metadata": {},
          "execution_count": 11
        }
      ]
    },
    {
      "cell_type": "code",
      "source": [
        "# we need to iterate in a loop cell by cell to access cell value from the column\n",
        "for cell in column_a[:11]:\n",
        "    print(cell.value)"
      ],
      "metadata": {
        "colab": {
          "base_uri": "https://localhost:8080/"
        },
        "id": "LUUmnmPe-NQe",
        "outputId": "b166f6c1-a784-4335-d0d0-05b1109172de"
      },
      "execution_count": 12,
      "outputs": [
        {
          "output_type": "stream",
          "name": "stdout",
          "text": [
            "Name\n",
            "Kevin\n",
            "Sean\n",
            "Marina\n",
            "Jess\n",
            "Nicolas\n",
            "Winston\n",
            "Peter\n",
            "Monica\n",
            "Rachel\n",
            "Lisa\n"
          ]
        }
      ]
    },
    {
      "cell_type": "code",
      "source": [
        "# row\n",
        "row_1 = ws[1]\n",
        "for cell in row_1:\n",
        "    print(cell.value)"
      ],
      "metadata": {
        "colab": {
          "base_uri": "https://localhost:8080/"
        },
        "id": "6m2o183P-p6P",
        "outputId": "5c47b1b8-80e8-4947-c4d0-510ef7cf1d02"
      },
      "execution_count": 13,
      "outputs": [
        {
          "output_type": "stream",
          "name": "stdout",
          "text": [
            "Name\n",
            "Orange\n",
            "Banana\n",
            "Apples\n",
            "Kiwi\n"
          ]
        }
      ]
    },
    {
      "cell_type": "markdown",
      "source": [
        "Ranges"
      ],
      "metadata": {
        "id": "Y1YfWFXY-1yR"
      }
    },
    {
      "cell_type": "code",
      "source": [
        "# grab a range\n",
        "\n",
        "cellrange = ws['A1:C6']\n",
        "print(cellrange)\n",
        "\n",
        "# loop \n",
        "for cell in cellrange:\n",
        "    print(cell)\n",
        "\n",
        "print('...')\n",
        "print('....  only references are displayed without values')"
      ],
      "metadata": {
        "colab": {
          "base_uri": "https://localhost:8080/"
        },
        "id": "iAQI6jRx-vGw",
        "outputId": "1177d04f-30f9-4902-d0db-866ea31eee90"
      },
      "execution_count": 14,
      "outputs": [
        {
          "output_type": "stream",
          "name": "stdout",
          "text": [
            "((<Cell 'Groceries'.A1>, <Cell 'Groceries'.B1>, <Cell 'Groceries'.C1>), (<Cell 'Groceries'.A2>, <Cell 'Groceries'.B2>, <Cell 'Groceries'.C2>), (<Cell 'Groceries'.A3>, <Cell 'Groceries'.B3>, <Cell 'Groceries'.C3>), (<Cell 'Groceries'.A4>, <Cell 'Groceries'.B4>, <Cell 'Groceries'.C4>), (<Cell 'Groceries'.A5>, <Cell 'Groceries'.B5>, <Cell 'Groceries'.C5>), (<Cell 'Groceries'.A6>, <Cell 'Groceries'.B6>, <Cell 'Groceries'.C6>))\n",
            "(<Cell 'Groceries'.A1>, <Cell 'Groceries'.B1>, <Cell 'Groceries'.C1>)\n",
            "(<Cell 'Groceries'.A2>, <Cell 'Groceries'.B2>, <Cell 'Groceries'.C2>)\n",
            "(<Cell 'Groceries'.A3>, <Cell 'Groceries'.B3>, <Cell 'Groceries'.C3>)\n",
            "(<Cell 'Groceries'.A4>, <Cell 'Groceries'.B4>, <Cell 'Groceries'.C4>)\n",
            "(<Cell 'Groceries'.A5>, <Cell 'Groceries'.B5>, <Cell 'Groceries'.C5>)\n",
            "(<Cell 'Groceries'.A6>, <Cell 'Groceries'.B6>, <Cell 'Groceries'.C6>)\n",
            "...\n",
            "....  only references are displayed without values\n"
          ]
        }
      ]
    },
    {
      "cell_type": "code",
      "source": [
        "# to acces values we need to iterate over the tuples\n",
        "\n",
        "for item in cellrange:\n",
        "    for subitem in item:\n",
        "        print(subitem.value)\n",
        "\n",
        "print('.....note that it will iterarate in horizontal direction... ')"
      ],
      "metadata": {
        "colab": {
          "base_uri": "https://localhost:8080/"
        },
        "id": "1bEZSMe3_L30",
        "outputId": "ecc9e39a-d4d1-44d6-e15a-ebddf9082869"
      },
      "execution_count": 15,
      "outputs": [
        {
          "output_type": "stream",
          "name": "stdout",
          "text": [
            "Name\n",
            "Orange\n",
            "Banana\n",
            "Kevin\n",
            "7\n",
            "8\n",
            "Sean\n",
            "11\n",
            "10\n",
            "Marina\n",
            "1\n",
            "1\n",
            "Jess\n",
            "10\n",
            "6\n",
            "Nicolas\n",
            "7\n",
            "3\n",
            ".....note that it will iterarate in horizontal direction... \n"
          ]
        }
      ]
    },
    {
      "cell_type": "code",
      "source": [],
      "metadata": {
        "id": "XEv3og9uAd8J"
      },
      "execution_count": 15,
      "outputs": []
    },
    {
      "cell_type": "markdown",
      "source": [
        "# Iterate through rows and columns"
      ],
      "metadata": {
        "id": "2_zGG46FAcDf"
      }
    },
    {
      "cell_type": "markdown",
      "source": [
        "## Rows : iter_rows()"
      ],
      "metadata": {
        "id": "fDMIVjPyBgwM"
      }
    },
    {
      "cell_type": "code",
      "source": [
        "# iterate through rows\n",
        "# it will iterate in horizontal direction\n",
        "\n",
        "for row in ws.iter_rows(min_row=1, # the range starts at 1st row\n",
        "                        max_row=3, # the range ends at 3rd row\n",
        "                        min_col=1, # the range starts at 1st column\n",
        "                        max_col=5): # the range ends at 5th column\n",
        "    for cell in row:\n",
        "        print(cell)"
      ],
      "metadata": {
        "colab": {
          "base_uri": "https://localhost:8080/"
        },
        "id": "UX745j5L_oal",
        "outputId": "354f6180-80bd-4101-dc24-9c269d5580ef"
      },
      "execution_count": 16,
      "outputs": [
        {
          "output_type": "stream",
          "name": "stdout",
          "text": [
            "<Cell 'Groceries'.A1>\n",
            "<Cell 'Groceries'.B1>\n",
            "<Cell 'Groceries'.C1>\n",
            "<Cell 'Groceries'.D1>\n",
            "<Cell 'Groceries'.E1>\n",
            "<Cell 'Groceries'.A2>\n",
            "<Cell 'Groceries'.B2>\n",
            "<Cell 'Groceries'.C2>\n",
            "<Cell 'Groceries'.D2>\n",
            "<Cell 'Groceries'.E2>\n",
            "<Cell 'Groceries'.A3>\n",
            "<Cell 'Groceries'.B3>\n",
            "<Cell 'Groceries'.C3>\n",
            "<Cell 'Groceries'.D3>\n",
            "<Cell 'Groceries'.E3>\n"
          ]
        }
      ]
    },
    {
      "cell_type": "code",
      "source": [
        "# if we add << values_only=True >>\n",
        "for row in ws.iter_rows(min_row=1, max_row=3, min_col=1, max_col=5, values_only=True):\n",
        "    for cell in row:\n",
        "        print(cell)\n",
        "    print('.........................end of row')"
      ],
      "metadata": {
        "colab": {
          "base_uri": "https://localhost:8080/"
        },
        "id": "u4oxtKQbAqk2",
        "outputId": "bd388814-3798-42e2-a985-d1a81fd60db4"
      },
      "execution_count": 17,
      "outputs": [
        {
          "output_type": "stream",
          "name": "stdout",
          "text": [
            "Name\n",
            "Orange\n",
            "Banana\n",
            "Apples\n",
            "Kiwi\n",
            ".........................end of row\n",
            "Kevin\n",
            "7\n",
            "8\n",
            "11\n",
            "4\n",
            ".........................end of row\n",
            "Sean\n",
            "11\n",
            "10\n",
            "3\n",
            "7\n",
            ".........................end of row\n"
          ]
        }
      ]
    },
    {
      "cell_type": "markdown",
      "source": [
        "## Columns : iter_cols()"
      ],
      "metadata": {
        "id": "6FipjyCIBw0T"
      }
    },
    {
      "cell_type": "code",
      "source": [
        "# iterate through col\n",
        "# it will iterate in vertically direction\n",
        "for col in ws.iter_cols(min_row=1, \n",
        "                        max_row=4, \n",
        "                        min_col=1, \n",
        "                        max_col=3, \n",
        "                        values_only=True):\n",
        "    for cell in col:\n",
        "        print(cell)\n",
        "    (print('..........end of column'))"
      ],
      "metadata": {
        "colab": {
          "base_uri": "https://localhost:8080/"
        },
        "id": "UqHhjeVQBAa6",
        "outputId": "ac039233-9f52-4c0b-8148-900153b76f47"
      },
      "execution_count": 18,
      "outputs": [
        {
          "output_type": "stream",
          "name": "stdout",
          "text": [
            "Name\n",
            "Kevin\n",
            "Sean\n",
            "Marina\n",
            "..........end of column\n",
            "Orange\n",
            "7\n",
            "11\n",
            "1\n",
            "..........end of column\n",
            "Banana\n",
            "8\n",
            "10\n",
            "1\n",
            "..........end of column\n"
          ]
        }
      ]
    },
    {
      "cell_type": "markdown",
      "source": [
        "# Read mulitple rows\n"
      ],
      "metadata": {
        "id": "7hObinZEEvLz"
      }
    },
    {
      "cell_type": "code",
      "source": [
        "for row in range(1, 4):\n",
        "    for cell in ws[row]:\n",
        "        print('row nb: ', row, cell.value)"
      ],
      "metadata": {
        "colab": {
          "base_uri": "https://localhost:8080/"
        },
        "id": "PRKpNEQ9EzOU",
        "outputId": "dcaaee37-0b9e-4775-f2f3-f24852b3701e"
      },
      "execution_count": 19,
      "outputs": [
        {
          "output_type": "stream",
          "name": "stdout",
          "text": [
            "row nb:  1 Name\n",
            "row nb:  1 Orange\n",
            "row nb:  1 Banana\n",
            "row nb:  1 Apples\n",
            "row nb:  1 Kiwi\n",
            "row nb:  2 Kevin\n",
            "row nb:  2 7\n",
            "row nb:  2 8\n",
            "row nb:  2 11\n",
            "row nb:  2 4\n",
            "row nb:  3 Sean\n",
            "row nb:  3 11\n",
            "row nb:  3 10\n",
            "row nb:  3 3\n",
            "row nb:  3 7\n"
          ]
        }
      ]
    },
    {
      "cell_type": "markdown",
      "source": [
        "# Modifications"
      ],
      "metadata": {
        "id": "CfLtzXuiCYHP"
      }
    },
    {
      "cell_type": "markdown",
      "source": [
        "*Modify cell*"
      ],
      "metadata": {
        "id": "wj73XNc8CgKb"
      }
    },
    {
      "cell_type": "code",
      "source": [
        "# change cell value of A2\n",
        "ws['A2']='Alex'\n",
        "\n",
        "# save into another excel file\n",
        "wb.save('Groceries_1.xlsx')"
      ],
      "metadata": {
        "id": "eH9zbWrwB2-L"
      },
      "execution_count": 20,
      "outputs": []
    },
    {
      "cell_type": "markdown",
      "source": [
        " *Add cels to spreadsheet*"
      ],
      "metadata": {
        "id": "We4LEPtZC8j6"
      }
    },
    {
      "cell_type": "code",
      "source": [
        "# Change single cell\n",
        "\n",
        "ws.cell(row=12, column=1).value= 'Greg'\n",
        "wb.save('Groceries_1.xlsx')"
      ],
      "metadata": {
        "id": "2dz8agupCv96"
      },
      "execution_count": 21,
      "outputs": []
    },
    {
      "cell_type": "code",
      "source": [
        "# Add multiple cells\n",
        "\n",
        "# create list with names\n",
        "names=['Dan', 'Abagail', 'Leo']\n",
        "\n",
        "# assign a variable with row index where we want to add the cell\n",
        "starting_row = 13\n",
        "\n",
        "# copy element by element from names list and in a loop assign them in the workbook at the indicated location\n",
        "for name in names:\n",
        "    ws.cell(row=starting_row, column=1).value = name\n",
        "    # increment the counter\n",
        "    starting_row= starting_row + 1\n",
        "\n",
        "wb.save('Groceries_1.xlsx')"
      ],
      "metadata": {
        "id": "-ndJAsUcDEXm"
      },
      "execution_count": 22,
      "outputs": []
    },
    {
      "cell_type": "code",
      "source": [
        "for row in range(10, 15):\n",
        "    for cell in ws[row]:\n",
        "        print('row nb: ', row, cell.value)"
      ],
      "metadata": {
        "colab": {
          "base_uri": "https://localhost:8080/"
        },
        "id": "xmypJi11FC1K",
        "outputId": "1baecb5c-3e78-4bfe-b4ef-798eb42be451"
      },
      "execution_count": 23,
      "outputs": [
        {
          "output_type": "stream",
          "name": "stdout",
          "text": [
            "row nb:  10 Rachel\n",
            "row nb:  10 4\n",
            "row nb:  10 6\n",
            "row nb:  10 11\n",
            "row nb:  10 9\n",
            "row nb:  11 Lisa\n",
            "row nb:  11 7\n",
            "row nb:  11 9\n",
            "row nb:  11 8\n",
            "row nb:  11 10\n",
            "row nb:  12 Greg\n",
            "row nb:  12 None\n",
            "row nb:  12 None\n",
            "row nb:  12 None\n",
            "row nb:  12 None\n",
            "row nb:  13 Dan\n",
            "row nb:  13 None\n",
            "row nb:  13 None\n",
            "row nb:  13 None\n",
            "row nb:  13 None\n",
            "row nb:  14 Abagail\n",
            "row nb:  14 None\n",
            "row nb:  14 None\n",
            "row nb:  14 None\n",
            "row nb:  14 None\n"
          ]
        }
      ]
    },
    {
      "cell_type": "markdown",
      "source": [
        "*Return data as a tuple*"
      ],
      "metadata": {
        "id": "UKSpCoTXGhjg"
      }
    },
    {
      "cell_type": "code",
      "source": [
        "# return data as tuples\n",
        "sheet_cells = []\n",
        "for rows in ws.iter_rows():\n",
        "    row_cells = []\n",
        "    for cell in rows:\n",
        "        row_cells.append(cell.value)\n",
        "    sheet_cells.append(tuple(row_cells))\n",
        "\n",
        "print(sheet_cells)"
      ],
      "metadata": {
        "colab": {
          "base_uri": "https://localhost:8080/"
        },
        "id": "FZgt9NwxGlNS",
        "outputId": "6ddf825e-800c-42b7-b4fb-f940b72cd36a"
      },
      "execution_count": 24,
      "outputs": [
        {
          "output_type": "stream",
          "name": "stdout",
          "text": [
            "[('Name', 'Orange', 'Banana', 'Apples', 'Kiwi'), ('Alex', 7, 8, 11, 4), ('Sean', 11, 10, 3, 7), ('Marina', 1, 1, 5, 10), ('Jess', 10, 6, 5, 2), ('Nicolas', 7, 3, 2, 6), ('Winston', 9, 10, 2, 4), ('Peter', 8, 4, 2, 8), ('Monica', 1, 8, 6, 9), ('Rachel', 4, 6, 11, 9), ('Lisa', 7, 9, 8, 10), ('Greg', None, None, None, None), ('Dan', None, None, None, None), ('Abagail', None, None, None, None), ('Leo', None, None, None, None)]\n"
          ]
        }
      ]
    },
    {
      "cell_type": "markdown",
      "source": [
        "*create / delete a new sheet*"
      ],
      "metadata": {
        "id": "dw9qhbLkF6SF"
      }
    },
    {
      "cell_type": "code",
      "source": [
        "# change workseet title\n",
        "ws.title = 'Groceries_List'\n",
        "wb.save('Groceries_1.xlsx')"
      ],
      "metadata": {
        "id": "G_nK-aC8EDsh"
      },
      "execution_count": 25,
      "outputs": []
    },
    {
      "cell_type": "code",
      "source": [
        "# create a new sheet where to write the new row\n",
        "new_sheet= wb.create_sheet(title='New_sheet')\n",
        "wb.save('Groceries_1.xlsx')"
      ],
      "metadata": {
        "id": "OFe6FJ_KF_lN"
      },
      "execution_count": 26,
      "outputs": []
    },
    {
      "cell_type": "code",
      "source": [
        "# remove the sheet\n",
        "wb.remove(new_sheet)  \n",
        "wb.save('Groceries_1.xlsx')"
      ],
      "metadata": {
        "id": "dFlcD7JSGECZ"
      },
      "execution_count": 27,
      "outputs": []
    },
    {
      "cell_type": "markdown",
      "source": [
        "*Append*"
      ],
      "metadata": {
        "id": "VmDtrO3wGdsy"
      }
    },
    {
      "cell_type": "code",
      "source": [
        "# append data at the end of dataframe\n",
        "\n",
        "# create a nested list that have 3 items, each item being a row in our excel\n",
        "newdata = [('John', 2, 1, 3, 1), \n",
        "           ('Mark', 4, 2, 3, 1), \n",
        "           ('Eva', 5, 7, 3, 2)]\n",
        "\n",
        "for item in newdata:\n",
        "    ws.append(item)\n",
        "\n",
        "# don't forget to save the modifications\n",
        "# and have the excel closed\n",
        "wb.save('Groceries_1.xlsx')"
      ],
      "metadata": {
        "id": "Rlmn75wMGHNB"
      },
      "execution_count": 28,
      "outputs": []
    },
    {
      "cell_type": "markdown",
      "source": [
        "# Copy / Paste ranges"
      ],
      "metadata": {
        "id": "j8Wj4Jt8IcIR"
      }
    },
    {
      "cell_type": "markdown",
      "source": [
        "Notice that row 12 to 15 remain (from Greg to Leo) almost emtpty\n",
        "\n",
        "Let's copy some cell range to paste it in this rows"
      ],
      "metadata": {
        "id": "AH7tXAZHH_Fi"
      }
    },
    {
      "cell_type": "markdown",
      "source": [
        "*Rewrite a cell range*"
      ],
      "metadata": {
        "id": "I98oVtbnWKE_"
      }
    },
    {
      "cell_type": "code",
      "source": [
        "# write a function that woud copy a cell range\n",
        "\n",
        "#Takes: start cell, end cell, and sheet you want to copy from.\n",
        "def copyRange(startCol, startRow, endCol, endRow, sheet):\n",
        "    rangeSelected = []\n",
        "    #Loops through selected Rows\n",
        "    for i in range(\n",
        "      startRow,endRow + 1,1):\n",
        "        #Appends the row to a RowSelected list\n",
        "        rowSelected = []\n",
        "        for j in range(startCol,endCol+1,1):\n",
        "            rowSelected.append(sheet.cell(row = i, column = j).value)\n",
        "        #Adds the RowSelected List and nests inside the rangeSelected\n",
        "        rangeSelected.append(rowSelected)\n",
        "\n",
        "    return rangeSelected"
      ],
      "metadata": {
        "id": "bJ3CcbhRIJv8"
      },
      "execution_count": 29,
      "outputs": []
    },
    {
      "cell_type": "code",
      "source": [
        "# write a function that woud paste a cell range\n",
        "\n",
        "#Paste data from copyRange into template sheet\n",
        "def pasteRange(startCol, startRow, endCol, endRow, sheetReceiving,copiedData):\n",
        "    countRow = 0\n",
        "    for i in range(startRow,endRow+1,1):\n",
        "        countCol = 0\n",
        "        for j in range(startCol,endCol+1,1):\n",
        "            \n",
        "            sheetReceiving.cell(row = i, column = j).value = copiedData[countRow][countCol]\n",
        "            countCol += 1\n",
        "        countRow += 1"
      ],
      "metadata": {
        "id": "2cAJLV0cWa5r"
      },
      "execution_count": 30,
      "outputs": []
    },
    {
      "cell_type": "markdown",
      "source": [
        "Copy / paste a row"
      ],
      "metadata": {
        "id": "NxEe6g6nWuWj"
      }
    },
    {
      "cell_type": "code",
      "source": [
        "selectedRange = copyRange(startCol =2,\n",
        "                          startRow= 2,\n",
        "                          endCol= 5,\n",
        "                          endRow =2,\n",
        "                          sheet = ws) \n",
        "print(selectedRange)"
      ],
      "metadata": {
        "colab": {
          "base_uri": "https://localhost:8080/"
        },
        "id": "Eo3LnJf6WhWP",
        "outputId": "d5267ecf-94f6-4f8e-f2fb-87de31783249"
      },
      "execution_count": 31,
      "outputs": [
        {
          "output_type": "stream",
          "name": "stdout",
          "text": [
            "[[7, 8, 11, 4]]\n"
          ]
        }
      ]
    },
    {
      "cell_type": "code",
      "source": [
        "pasteRange(startCol = 2,\n",
        "           startRow = 12, \n",
        "           endCol=5, \n",
        "           endRow = 12, \n",
        "           sheetReceiving= ws,\n",
        "           copiedData = selectedRange)\n",
        "wb.save('Groceries_1.xlsx') "
      ],
      "metadata": {
        "id": "xQcP0F7cWvzz"
      },
      "execution_count": 32,
      "outputs": []
    },
    {
      "cell_type": "markdown",
      "source": [
        "Copy paste cellrange : mulitple rows and columns"
      ],
      "metadata": {
        "id": "-_gk_PhMXDXh"
      }
    },
    {
      "cell_type": "code",
      "source": [
        "selectedRange = copyRange(startCol =2,\n",
        "                          startRow= 5,\n",
        "                          endCol= 5,\n",
        "                          endRow =7,\n",
        "                          sheet = ws) \n",
        "print(selectedRange)"
      ],
      "metadata": {
        "colab": {
          "base_uri": "https://localhost:8080/"
        },
        "id": "daQVuEDrW5QM",
        "outputId": "daf839d1-c164-4363-e9e4-f04993e4fb31"
      },
      "execution_count": 33,
      "outputs": [
        {
          "output_type": "stream",
          "name": "stdout",
          "text": [
            "[[10, 6, 5, 2], [7, 3, 2, 6], [9, 10, 2, 4]]\n"
          ]
        }
      ]
    },
    {
      "cell_type": "code",
      "source": [
        "pasteRange(startCol = 2,\n",
        "           startRow = 13, \n",
        "           endCol=5, \n",
        "           endRow = 15, \n",
        "           sheetReceiving= ws,\n",
        "           copiedData = selectedRange)\n",
        "wb.save('Groceries_1.xlsx') "
      ],
      "metadata": {
        "id": "sIdF_nmIXIit"
      },
      "execution_count": 34,
      "outputs": []
    },
    {
      "cell_type": "markdown",
      "source": [
        "Write / copy a list in a cell range"
      ],
      "metadata": {
        "id": "6QwoJF2QXV3U"
      }
    },
    {
      "cell_type": "code",
      "source": [
        "cellrange = ['Tom', 8, 2, 3, 2]\n",
        "\n",
        "print(cellrange)\n",
        "print(len(cellrange))"
      ],
      "metadata": {
        "colab": {
          "base_uri": "https://localhost:8080/"
        },
        "id": "C6wBC7kGXI8e",
        "outputId": "3605f489-6d40-4307-87d3-c287d5026ba6"
      },
      "execution_count": 35,
      "outputs": [
        {
          "output_type": "stream",
          "name": "stdout",
          "text": [
            "['Tom', 8, 2, 3, 2]\n",
            "5\n"
          ]
        }
      ]
    },
    {
      "cell_type": "code",
      "source": [
        "target_row= 21\n",
        "for i in range(0, len(cellrange)):\n",
        "    ws.cell(row=target_row, column = i+1).value= cellrange[i]\n",
        "wb.save('Groceries_1.xlsx')     "
      ],
      "metadata": {
        "id": "F4WYy0B9Xb5X"
      },
      "execution_count": 36,
      "outputs": []
    },
    {
      "cell_type": "markdown",
      "source": [
        "# Move / Insert"
      ],
      "metadata": {
        "id": "OCXjQt7PYGnc"
      }
    },
    {
      "cell_type": "code",
      "source": [
        "# move cell\n",
        "\n",
        "ws._move_cell(row =21,\n",
        "          column= 2, \n",
        "          row_offset= -1, # negative goes up, postivie goes down\n",
        "          col_offset = 0) # negative to left, postivie to the right\n",
        "\n",
        "wb.save('Groceries_1.xlsx')"
      ],
      "metadata": {
        "id": "Q0jzhk-4XiaX"
      },
      "execution_count": 37,
      "outputs": []
    },
    {
      "cell_type": "code",
      "source": [
        "# see what was written\n",
        "for row in ws[\"A18:I22\"]:\n",
        "    print ([x.value for x in row])"
      ],
      "metadata": {
        "colab": {
          "base_uri": "https://localhost:8080/"
        },
        "id": "Z4teUV4xYc8h",
        "outputId": "c9d189df-123a-48e9-9654-ece54df206bb"
      },
      "execution_count": 38,
      "outputs": [
        {
          "output_type": "stream",
          "name": "stdout",
          "text": [
            "['Eva', 5, 7, 3, 2, None, None, None, None]\n",
            "[None, None, None, None, None, None, None, None, None]\n",
            "[None, 8, None, None, None, None, None, None, None]\n",
            "['Tom', None, 2, 3, 2, None, None, None, None]\n",
            "[None, None, None, None, None, None, None, None, None]\n"
          ]
        }
      ]
    },
    {
      "cell_type": "code",
      "source": [
        "# remove unwanted cell\n",
        "\n",
        "ws.cell(row=20, column=2).value = None\n",
        "wb.save('Groceries_1.xlsx')\n",
        "# see what was written\n",
        "for row in ws[\"A18:I22\"]:\n",
        "    print ([x.value for x in row])"
      ],
      "metadata": {
        "colab": {
          "base_uri": "https://localhost:8080/"
        },
        "id": "_7-9Objie7TP",
        "outputId": "54d9ba95-f860-47ed-c7a8-9fb404f217e9"
      },
      "execution_count": 39,
      "outputs": [
        {
          "output_type": "stream",
          "name": "stdout",
          "text": [
            "['Eva', 5, 7, 3, 2, None, None, None, None]\n",
            "[None, None, None, None, None, None, None, None, None]\n",
            "[None, None, None, None, None, None, None, None, None]\n",
            "['Tom', None, 2, 3, 2, None, None, None, None]\n",
            "[None, None, None, None, None, None, None, None, None]\n"
          ]
        }
      ]
    },
    {
      "cell_type": "code",
      "source": [
        "ws.move_range(\"A21:E21\", \n",
        "                 -2, # how many rows\n",
        "                 0) # how many columns\n",
        "wb.save('Groceries_1.xlsx')\n",
        "\n",
        "# see what was written\n",
        "for row in ws[\"A18:I22\"]:\n",
        "    print ([x.value for x in row])"
      ],
      "metadata": {
        "colab": {
          "base_uri": "https://localhost:8080/"
        },
        "id": "MiY_RQZxfNcS",
        "outputId": "9cf4f3fd-de8f-4da2-a0a8-d32a459dfa15"
      },
      "execution_count": 40,
      "outputs": [
        {
          "output_type": "stream",
          "name": "stdout",
          "text": [
            "['Eva', 5, 7, 3, 2, None, None, None, None]\n",
            "['Tom', None, 2, 3, 2, None, None, None, None]\n",
            "[None, None, None, None, None, None, None, None, None]\n",
            "[None, None, None, None, None, None, None, None, None]\n",
            "[None, None, None, None, None, None, None, None, None]\n"
          ]
        }
      ]
    },
    {
      "cell_type": "code",
      "source": [],
      "metadata": {
        "id": "oJP25xRUf7CU"
      },
      "execution_count": 40,
      "outputs": []
    },
    {
      "cell_type": "code",
      "source": [
        "# insert rows\n",
        "\n",
        "ws.insert_rows(idx=10, # row location\n",
        "               amount=2) # how many rows to insert\n",
        "wb.save('Groceries_1.xlsx') \n",
        "\n",
        "# see what was written\n",
        "\n",
        "for row in ws[\"A9:I12\"]:\n",
        "    print ([x.value for x in row])"
      ],
      "metadata": {
        "colab": {
          "base_uri": "https://localhost:8080/"
        },
        "id": "RmsDBVvBYulH",
        "outputId": "daa46083-3e7d-4d94-ad12-ba5d1e31d75f"
      },
      "execution_count": 41,
      "outputs": [
        {
          "output_type": "stream",
          "name": "stdout",
          "text": [
            "['Monica', 1, 8, 6, 9, None, None, None, None]\n",
            "[None, None, None, None, None, None, None, None, None]\n",
            "[None, None, None, None, None, None, None, None, None]\n",
            "['Rachel', 4, 6, 11, 9, None, None, None, None]\n"
          ]
        }
      ]
    },
    {
      "cell_type": "code",
      "source": [
        "# insert columns\n",
        "ws.insert_cols(idx=1, # col location\n",
        "               amount=1) # how many cols to insert\n",
        "\n",
        "wb.save('Groceries_1.xlsx') \n",
        "\n",
        "# see what was written\n",
        "for row in ws[\"A1:I5\"]:\n",
        "    print ([x.value for x in row])"
      ],
      "metadata": {
        "colab": {
          "base_uri": "https://localhost:8080/"
        },
        "id": "krHytnw-ZlCa",
        "outputId": "efbcb771-f63c-4a7b-b881-ccb3726f29a2"
      },
      "execution_count": 42,
      "outputs": [
        {
          "output_type": "stream",
          "name": "stdout",
          "text": [
            "[None, 'Name', 'Orange', 'Banana', 'Apples', 'Kiwi', None, None, None]\n",
            "[None, 'Alex', 7, 8, 11, 4, None, None, None]\n",
            "[None, 'Sean', 11, 10, 3, 7, None, None, None]\n",
            "[None, 'Marina', 1, 1, 5, 10, None, None, None]\n",
            "[None, 'Jess', 10, 6, 5, 2, None, None, None]\n"
          ]
        }
      ]
    },
    {
      "cell_type": "code",
      "source": [
        "# delete rows\n",
        "\n",
        "ws.delete_rows(idx=10, amount=2)\n",
        "wb.save('Groceries_1.xlsx') \n",
        "\n",
        "# see what was written\n",
        "\n",
        "for row in ws[\"A9:I12\"]:\n",
        "    print ([x.value for x in row])"
      ],
      "metadata": {
        "colab": {
          "base_uri": "https://localhost:8080/"
        },
        "id": "BHWlj_wZZ7R3",
        "outputId": "01ede4c6-3200-4b2a-9c1b-b137afa52c88"
      },
      "execution_count": 43,
      "outputs": [
        {
          "output_type": "stream",
          "name": "stdout",
          "text": [
            "[None, 'Monica', 1, 8, 6, 9, None, None, None]\n",
            "[None, 'Rachel', 4, 6, 11, 9, None, None, None]\n",
            "[None, 'Lisa', 7, 9, 8, 10, None, None, None]\n",
            "[None, 'Greg', 7, 8, 11, 4, None, None, None]\n"
          ]
        }
      ]
    },
    {
      "cell_type": "code",
      "source": [
        "# delete cols\n",
        "\n",
        "ws.delete_cols(idx=1, amount=1)\n",
        "wb.save('Groceries_1.xlsx') \n",
        "\n",
        "# see what was written\n",
        "\n",
        "for row in ws[\"A9:I12\"]:\n",
        "    print ([x.value for x in row])"
      ],
      "metadata": {
        "colab": {
          "base_uri": "https://localhost:8080/"
        },
        "id": "i1ge-s86g1z1",
        "outputId": "372b338b-ff60-47f4-8195-18b9d3147f75"
      },
      "execution_count": 44,
      "outputs": [
        {
          "output_type": "stream",
          "name": "stdout",
          "text": [
            "['Monica', 1, 8, 6, 9, None, None, None, None]\n",
            "['Rachel', 4, 6, 11, 9, None, None, None, None]\n",
            "['Lisa', 7, 9, 8, 10, None, None, None, None]\n",
            "['Greg', 7, 8, 11, 4, None, None, None, None]\n"
          ]
        }
      ]
    },
    {
      "cell_type": "markdown",
      "source": [
        "# Use Formulas"
      ],
      "metadata": {
        "id": "JWsCnJrpaaaP"
      }
    },
    {
      "cell_type": "code",
      "source": [
        "from openpyxl.utils import get_column_letter, column_index_from_string\n",
        "get_column_letter(5)"
      ],
      "metadata": {
        "colab": {
          "base_uri": "https://localhost:8080/",
          "height": 36
        },
        "id": "aK8UMxWJac1f",
        "outputId": "ca0ed9c5-37f8-4588-8dbd-95bfbe96c537"
      },
      "execution_count": 45,
      "outputs": [
        {
          "output_type": "execute_result",
          "data": {
            "text/plain": [
              "'E'"
            ],
            "application/vnd.google.colaboratory.intrinsic+json": {
              "type": "string"
            }
          },
          "metadata": {},
          "execution_count": 45
        }
      ]
    },
    {
      "cell_type": "code",
      "source": [
        "column_index_from_string('E')"
      ],
      "metadata": {
        "colab": {
          "base_uri": "https://localhost:8080/"
        },
        "id": "RCUa_UpsadgL",
        "outputId": "98f4289d-d6ce-4824-8990-899198821885"
      },
      "execution_count": 46,
      "outputs": [
        {
          "output_type": "execute_result",
          "data": {
            "text/plain": [
              "5"
            ]
          },
          "metadata": {},
          "execution_count": 46
        }
      ]
    },
    {
      "cell_type": "code",
      "source": [
        "ws['F2']= '=SUM(B2:E2)'\n",
        "ws['F2'].value\n",
        "wb.save('Groceries_1.xlsx')"
      ],
      "metadata": {
        "id": "Ez3zhthJagxR"
      },
      "execution_count": 47,
      "outputs": []
    },
    {
      "cell_type": "code",
      "source": [
        "# remove the  cell\n",
        "\n",
        "column_index_from_string('F')"
      ],
      "metadata": {
        "colab": {
          "base_uri": "https://localhost:8080/"
        },
        "id": "t8jh508riSmP",
        "outputId": "cdb8e8f4-8a3f-461b-8ae4-a896a35dc2a8"
      },
      "execution_count": 48,
      "outputs": [
        {
          "output_type": "execute_result",
          "data": {
            "text/plain": [
              "6"
            ]
          },
          "metadata": {},
          "execution_count": 48
        }
      ]
    },
    {
      "cell_type": "code",
      "source": [
        "# remove the  cell\n",
        "\n",
        "ws.cell(row=2, column=6).value = None\n",
        "wb.save('Groceries_1.xlsx')"
      ],
      "metadata": {
        "id": "NMUR-CuPiKdh"
      },
      "execution_count": 49,
      "outputs": []
    },
    {
      "cell_type": "code",
      "source": [],
      "metadata": {
        "id": "UeFrApKIiRQ1"
      },
      "execution_count": 49,
      "outputs": []
    },
    {
      "cell_type": "code",
      "source": [
        "# nb of rows of excel dataframe\n",
        "ws.max_row"
      ],
      "metadata": {
        "colab": {
          "base_uri": "https://localhost:8080/"
        },
        "id": "ieicbAkHheKf",
        "outputId": "3030c707-fe94-48ad-e378-9ce1d5352bf0"
      },
      "execution_count": 50,
      "outputs": [
        {
          "output_type": "execute_result",
          "data": {
            "text/plain": [
              "22"
            ]
          },
          "metadata": {},
          "execution_count": 50
        }
      ]
    },
    {
      "cell_type": "markdown",
      "source": [
        "Sometimes if the worksheet was manipulated some columns or rows are added even if there cells are empty.\n",
        "\n",
        "\n",
        "> To evercome this we'll write function to compute max rows and max col\n",
        "\n",
        "\n"
      ],
      "metadata": {
        "id": "Q3QhvpQniuWI"
      }
    },
    {
      "cell_type": "code",
      "source": [
        "def get_maximum_rows(*, sheet_object):\n",
        "    rows = 0\n",
        "    for max_row, row in enumerate(sheet_object, 1):\n",
        "        if not all(col.value is None for col in row):\n",
        "            rows += 1\n",
        "    return rows\n",
        "\n",
        "get_maximum_rows(sheet_object = ws)"
      ],
      "metadata": {
        "colab": {
          "base_uri": "https://localhost:8080/"
        },
        "id": "xepc43EQis82",
        "outputId": "9b6bc947-9fb7-48cf-9cc3-86cba1cf64b8"
      },
      "execution_count": 51,
      "outputs": [
        {
          "output_type": "execute_result",
          "data": {
            "text/plain": [
              "19"
            ]
          },
          "metadata": {},
          "execution_count": 51
        }
      ]
    },
    {
      "cell_type": "code",
      "source": [
        "# nb of columnss of excel dataframe\n",
        "ws.max_column"
      ],
      "metadata": {
        "colab": {
          "base_uri": "https://localhost:8080/"
        },
        "id": "L0bNCFvJhnNm",
        "outputId": "defc69d1-4d01-4ad1-8c2b-3a3ebe8e46cd"
      },
      "execution_count": 52,
      "outputs": [
        {
          "output_type": "execute_result",
          "data": {
            "text/plain": [
              "9"
            ]
          },
          "metadata": {},
          "execution_count": 52
        }
      ]
    },
    {
      "cell_type": "code",
      "source": [
        "def get_maximum_cols(sheet):\n",
        "    for i in range(1, 20000):\n",
        "        if sheet.cell(row=2, column= i).value == None:\n",
        "            max_col = i\n",
        "            break\n",
        "    return max_col\n",
        "    "
      ],
      "metadata": {
        "id": "D5FcatstjuAx"
      },
      "execution_count": 53,
      "outputs": []
    },
    {
      "cell_type": "code",
      "source": [
        "get_maximum_cols(sheet=ws)"
      ],
      "metadata": {
        "colab": {
          "base_uri": "https://localhost:8080/"
        },
        "id": "uc2H6Wi0jyJe",
        "outputId": "eea0f7db-f0a9-4106-ee94-30aaeb4ed6c1"
      },
      "execution_count": 54,
      "outputs": [
        {
          "output_type": "execute_result",
          "data": {
            "text/plain": [
              "6"
            ]
          },
          "metadata": {},
          "execution_count": 54
        }
      ]
    },
    {
      "cell_type": "markdown",
      "source": [
        "*Why the result gets in 7th column G ?????????*"
      ],
      "metadata": {
        "id": "XldQvCIvmLev"
      }
    },
    {
      "cell_type": "code",
      "source": [
        "# column totals\n",
        "\n",
        "first_row = 2\n",
        "last_row = get_maximum_rows(sheet_object = ws)\n",
        "end_col = get_maximum_cols(sheet=ws) -1\n",
        "sum_col = end_col + 1\n",
        "start_col = 2\n",
        "\n",
        "\n",
        "for row in ws.iter_rows(min_row=2, \n",
        "                        max_row=last_row, \n",
        "                        min_col=  sum_col, \n",
        "                        max_col= sum_col):\n",
        "    for cell in row:\n",
        "        cell_sum_start = str(get_column_letter(start_col)) + str(first_row)\n",
        "        cell_col_end = str(get_column_letter(end_col)) + str(first_row)\n",
        "        cell.value = '=SUM({0}:{1})'.format(cell_sum_start, cell_col_end) \n",
        "        first_row= first_row+1\n",
        "\n",
        "wb.save('Groceries_1.xlsx')"
      ],
      "metadata": {
        "id": "0_6OVBskaj3q"
      },
      "execution_count": 55,
      "outputs": []
    },
    {
      "cell_type": "code",
      "source": [
        "# row totals\n",
        "\n",
        "first_row = 2\n",
        "last_row = get_maximum_rows(sheet_object = ws)\n",
        "sum_row = last_row + 1\n",
        "start_col = 2\n",
        "end_col = get_maximum_cols(sheet=ws) -1\n",
        "for row in ws.iter_rows(min_row=sum_row,\n",
        "                        max_row=sum_row, \n",
        "                        min_col=start_col,\n",
        "                        max_col=end_col):\n",
        "    for cell in row:\n",
        "        cell_sum_start = cell.column_letter + str(first_row)\n",
        "        cell_sum_end = cell.column_letter + str(last_row)\n",
        "        cell.value = '=SUM({0}:{1})'.format(cell_sum_start, cell_sum_end) \n",
        "        #cell.number_format = '0'\n",
        "\n",
        "wb.save('Groceries_1.xlsx')"
      ],
      "metadata": {
        "id": "LYonxlm_ao5G"
      },
      "execution_count": 56,
      "outputs": []
    },
    {
      "cell_type": "code",
      "source": [
        "# add total string for all rows\n",
        "ws['A20']='Total'\n",
        "\n",
        "# add total string for all rows\n",
        "ws['F1']='Total'\n",
        "\n",
        "# save into another excel file\n",
        "wb.save('Groceries_1.xlsx')"
      ],
      "metadata": {
        "id": "W79ppgSMar6d"
      },
      "execution_count": 57,
      "outputs": []
    },
    {
      "cell_type": "code",
      "source": [
        "# Get value of the cell containing the formula.\n",
        "for row in ws[\"A1:F20\"]:\n",
        "    print ([x.value for x in row])"
      ],
      "metadata": {
        "colab": {
          "base_uri": "https://localhost:8080/"
        },
        "id": "iLpijL9P_W5c",
        "outputId": "7f7d9636-769a-411a-b8c8-96146b315193"
      },
      "execution_count": 58,
      "outputs": [
        {
          "output_type": "stream",
          "name": "stdout",
          "text": [
            "['Name', 'Orange', 'Banana', 'Apples', 'Kiwi', 'Total']\n",
            "['Alex', 7, 8, 11, 4, '=SUM(B2:E2)']\n",
            "['Sean', 11, 10, 3, 7, '=SUM(B3:E3)']\n",
            "['Marina', 1, 1, 5, 10, '=SUM(B4:E4)']\n",
            "['Jess', 10, 6, 5, 2, '=SUM(B5:E5)']\n",
            "['Nicolas', 7, 3, 2, 6, '=SUM(B6:E6)']\n",
            "['Winston', 9, 10, 2, 4, '=SUM(B7:E7)']\n",
            "['Peter', 8, 4, 2, 8, '=SUM(B8:E8)']\n",
            "['Monica', 1, 8, 6, 9, '=SUM(B9:E9)']\n",
            "['Rachel', 4, 6, 11, 9, '=SUM(B10:E10)']\n",
            "['Lisa', 7, 9, 8, 10, '=SUM(B11:E11)']\n",
            "['Greg', 7, 8, 11, 4, '=SUM(B12:E12)']\n",
            "['Dan', 10, 6, 5, 2, '=SUM(B13:E13)']\n",
            "['Abagail', 7, 3, 2, 6, '=SUM(B14:E14)']\n",
            "['Leo', 9, 10, 2, 4, '=SUM(B15:E15)']\n",
            "['John', 2, 1, 3, 1, '=SUM(B16:E16)']\n",
            "['Mark', 4, 2, 3, 1, '=SUM(B17:E17)']\n",
            "['Eva', 5, 7, 3, 2, '=SUM(B18:E18)']\n",
            "['Tom', None, 2, 3, 2, '=SUM(B19:E19)']\n",
            "['Total', '=SUM(B2:B19)', '=SUM(C2:C19)', '=SUM(D2:D19)', '=SUM(E2:E19)', '=SUM(F2:F19)']\n"
          ]
        }
      ]
    },
    {
      "cell_type": "markdown",
      "source": [
        "# Formating"
      ],
      "metadata": {
        "id": "RljvABIEmUDi"
      }
    },
    {
      "cell_type": "code",
      "source": [
        "# import libraries and modules for formating\n",
        "\n",
        "# !pip install xlsxwriter\n",
        "import xlsxwriter\n",
        "from xlsxwriter.utility import xl_rowcol_to_cell\n",
        "from xlsxwriter.utility import xl_col_to_name\n",
        "from xlsxwriter.utility import xl_range, xl_range_abs\n",
        "from xlsxwriter.utility import xl_rowcol_to_cell"
      ],
      "metadata": {
        "id": "5svEf7DKmVwI"
      },
      "execution_count": 59,
      "outputs": []
    },
    {
      "cell_type": "code",
      "source": [
        "# Convert Sheet to DataFrame \n",
        "df = pd.DataFrame(ws.values)\n",
        "df.head(10)"
      ],
      "metadata": {
        "colab": {
          "base_uri": "https://localhost:8080/",
          "height": 363
        },
        "id": "HHmbJv5Jn_YU",
        "outputId": "ecdc32c8-ef6f-448d-f8cb-b0a7071595c9"
      },
      "execution_count": 60,
      "outputs": [
        {
          "output_type": "execute_result",
          "data": {
            "text/plain": [
              "         0       1       2       3     4              5     6     7     8\n",
              "0     Name  Orange  Banana  Apples  Kiwi          Total  None  None  None\n",
              "1     Alex       7       8      11     4    =SUM(B2:E2)  None  None  None\n",
              "2     Sean      11      10       3     7    =SUM(B3:E3)  None  None  None\n",
              "3   Marina       1       1       5    10    =SUM(B4:E4)  None  None  None\n",
              "4     Jess      10       6       5     2    =SUM(B5:E5)  None  None  None\n",
              "5  Nicolas       7       3       2     6    =SUM(B6:E6)  None  None  None\n",
              "6  Winston       9      10       2     4    =SUM(B7:E7)  None  None  None\n",
              "7    Peter       8       4       2     8    =SUM(B8:E8)  None  None  None\n",
              "8   Monica       1       8       6     9    =SUM(B9:E9)  None  None  None\n",
              "9   Rachel       4       6      11     9  =SUM(B10:E10)  None  None  None"
            ],
            "text/html": [
              "\n",
              "  <div id=\"df-ebeac540-ce49-41ac-ac48-4d0c6f8bd6ff\">\n",
              "    <div class=\"colab-df-container\">\n",
              "      <div>\n",
              "<style scoped>\n",
              "    .dataframe tbody tr th:only-of-type {\n",
              "        vertical-align: middle;\n",
              "    }\n",
              "\n",
              "    .dataframe tbody tr th {\n",
              "        vertical-align: top;\n",
              "    }\n",
              "\n",
              "    .dataframe thead th {\n",
              "        text-align: right;\n",
              "    }\n",
              "</style>\n",
              "<table border=\"1\" class=\"dataframe\">\n",
              "  <thead>\n",
              "    <tr style=\"text-align: right;\">\n",
              "      <th></th>\n",
              "      <th>0</th>\n",
              "      <th>1</th>\n",
              "      <th>2</th>\n",
              "      <th>3</th>\n",
              "      <th>4</th>\n",
              "      <th>5</th>\n",
              "      <th>6</th>\n",
              "      <th>7</th>\n",
              "      <th>8</th>\n",
              "    </tr>\n",
              "  </thead>\n",
              "  <tbody>\n",
              "    <tr>\n",
              "      <th>0</th>\n",
              "      <td>Name</td>\n",
              "      <td>Orange</td>\n",
              "      <td>Banana</td>\n",
              "      <td>Apples</td>\n",
              "      <td>Kiwi</td>\n",
              "      <td>Total</td>\n",
              "      <td>None</td>\n",
              "      <td>None</td>\n",
              "      <td>None</td>\n",
              "    </tr>\n",
              "    <tr>\n",
              "      <th>1</th>\n",
              "      <td>Alex</td>\n",
              "      <td>7</td>\n",
              "      <td>8</td>\n",
              "      <td>11</td>\n",
              "      <td>4</td>\n",
              "      <td>=SUM(B2:E2)</td>\n",
              "      <td>None</td>\n",
              "      <td>None</td>\n",
              "      <td>None</td>\n",
              "    </tr>\n",
              "    <tr>\n",
              "      <th>2</th>\n",
              "      <td>Sean</td>\n",
              "      <td>11</td>\n",
              "      <td>10</td>\n",
              "      <td>3</td>\n",
              "      <td>7</td>\n",
              "      <td>=SUM(B3:E3)</td>\n",
              "      <td>None</td>\n",
              "      <td>None</td>\n",
              "      <td>None</td>\n",
              "    </tr>\n",
              "    <tr>\n",
              "      <th>3</th>\n",
              "      <td>Marina</td>\n",
              "      <td>1</td>\n",
              "      <td>1</td>\n",
              "      <td>5</td>\n",
              "      <td>10</td>\n",
              "      <td>=SUM(B4:E4)</td>\n",
              "      <td>None</td>\n",
              "      <td>None</td>\n",
              "      <td>None</td>\n",
              "    </tr>\n",
              "    <tr>\n",
              "      <th>4</th>\n",
              "      <td>Jess</td>\n",
              "      <td>10</td>\n",
              "      <td>6</td>\n",
              "      <td>5</td>\n",
              "      <td>2</td>\n",
              "      <td>=SUM(B5:E5)</td>\n",
              "      <td>None</td>\n",
              "      <td>None</td>\n",
              "      <td>None</td>\n",
              "    </tr>\n",
              "    <tr>\n",
              "      <th>5</th>\n",
              "      <td>Nicolas</td>\n",
              "      <td>7</td>\n",
              "      <td>3</td>\n",
              "      <td>2</td>\n",
              "      <td>6</td>\n",
              "      <td>=SUM(B6:E6)</td>\n",
              "      <td>None</td>\n",
              "      <td>None</td>\n",
              "      <td>None</td>\n",
              "    </tr>\n",
              "    <tr>\n",
              "      <th>6</th>\n",
              "      <td>Winston</td>\n",
              "      <td>9</td>\n",
              "      <td>10</td>\n",
              "      <td>2</td>\n",
              "      <td>4</td>\n",
              "      <td>=SUM(B7:E7)</td>\n",
              "      <td>None</td>\n",
              "      <td>None</td>\n",
              "      <td>None</td>\n",
              "    </tr>\n",
              "    <tr>\n",
              "      <th>7</th>\n",
              "      <td>Peter</td>\n",
              "      <td>8</td>\n",
              "      <td>4</td>\n",
              "      <td>2</td>\n",
              "      <td>8</td>\n",
              "      <td>=SUM(B8:E8)</td>\n",
              "      <td>None</td>\n",
              "      <td>None</td>\n",
              "      <td>None</td>\n",
              "    </tr>\n",
              "    <tr>\n",
              "      <th>8</th>\n",
              "      <td>Monica</td>\n",
              "      <td>1</td>\n",
              "      <td>8</td>\n",
              "      <td>6</td>\n",
              "      <td>9</td>\n",
              "      <td>=SUM(B9:E9)</td>\n",
              "      <td>None</td>\n",
              "      <td>None</td>\n",
              "      <td>None</td>\n",
              "    </tr>\n",
              "    <tr>\n",
              "      <th>9</th>\n",
              "      <td>Rachel</td>\n",
              "      <td>4</td>\n",
              "      <td>6</td>\n",
              "      <td>11</td>\n",
              "      <td>9</td>\n",
              "      <td>=SUM(B10:E10)</td>\n",
              "      <td>None</td>\n",
              "      <td>None</td>\n",
              "      <td>None</td>\n",
              "    </tr>\n",
              "  </tbody>\n",
              "</table>\n",
              "</div>\n",
              "      <button class=\"colab-df-convert\" onclick=\"convertToInteractive('df-ebeac540-ce49-41ac-ac48-4d0c6f8bd6ff')\"\n",
              "              title=\"Convert this dataframe to an interactive table.\"\n",
              "              style=\"display:none;\">\n",
              "        \n",
              "  <svg xmlns=\"http://www.w3.org/2000/svg\" height=\"24px\"viewBox=\"0 0 24 24\"\n",
              "       width=\"24px\">\n",
              "    <path d=\"M0 0h24v24H0V0z\" fill=\"none\"/>\n",
              "    <path d=\"M18.56 5.44l.94 2.06.94-2.06 2.06-.94-2.06-.94-.94-2.06-.94 2.06-2.06.94zm-11 1L8.5 8.5l.94-2.06 2.06-.94-2.06-.94L8.5 2.5l-.94 2.06-2.06.94zm10 10l.94 2.06.94-2.06 2.06-.94-2.06-.94-.94-2.06-.94 2.06-2.06.94z\"/><path d=\"M17.41 7.96l-1.37-1.37c-.4-.4-.92-.59-1.43-.59-.52 0-1.04.2-1.43.59L10.3 9.45l-7.72 7.72c-.78.78-.78 2.05 0 2.83L4 21.41c.39.39.9.59 1.41.59.51 0 1.02-.2 1.41-.59l7.78-7.78 2.81-2.81c.8-.78.8-2.07 0-2.86zM5.41 20L4 18.59l7.72-7.72 1.47 1.35L5.41 20z\"/>\n",
              "  </svg>\n",
              "      </button>\n",
              "      \n",
              "  <style>\n",
              "    .colab-df-container {\n",
              "      display:flex;\n",
              "      flex-wrap:wrap;\n",
              "      gap: 12px;\n",
              "    }\n",
              "\n",
              "    .colab-df-convert {\n",
              "      background-color: #E8F0FE;\n",
              "      border: none;\n",
              "      border-radius: 50%;\n",
              "      cursor: pointer;\n",
              "      display: none;\n",
              "      fill: #1967D2;\n",
              "      height: 32px;\n",
              "      padding: 0 0 0 0;\n",
              "      width: 32px;\n",
              "    }\n",
              "\n",
              "    .colab-df-convert:hover {\n",
              "      background-color: #E2EBFA;\n",
              "      box-shadow: 0px 1px 2px rgba(60, 64, 67, 0.3), 0px 1px 3px 1px rgba(60, 64, 67, 0.15);\n",
              "      fill: #174EA6;\n",
              "    }\n",
              "\n",
              "    [theme=dark] .colab-df-convert {\n",
              "      background-color: #3B4455;\n",
              "      fill: #D2E3FC;\n",
              "    }\n",
              "\n",
              "    [theme=dark] .colab-df-convert:hover {\n",
              "      background-color: #434B5C;\n",
              "      box-shadow: 0px 1px 3px 1px rgba(0, 0, 0, 0.15);\n",
              "      filter: drop-shadow(0px 1px 2px rgba(0, 0, 0, 0.3));\n",
              "      fill: #FFFFFF;\n",
              "    }\n",
              "  </style>\n",
              "\n",
              "      <script>\n",
              "        const buttonEl =\n",
              "          document.querySelector('#df-ebeac540-ce49-41ac-ac48-4d0c6f8bd6ff button.colab-df-convert');\n",
              "        buttonEl.style.display =\n",
              "          google.colab.kernel.accessAllowed ? 'block' : 'none';\n",
              "\n",
              "        async function convertToInteractive(key) {\n",
              "          const element = document.querySelector('#df-ebeac540-ce49-41ac-ac48-4d0c6f8bd6ff');\n",
              "          const dataTable =\n",
              "            await google.colab.kernel.invokeFunction('convertToInteractive',\n",
              "                                                     [key], {});\n",
              "          if (!dataTable) return;\n",
              "\n",
              "          const docLinkHtml = 'Like what you see? Visit the ' +\n",
              "            '<a target=\"_blank\" href=https://colab.research.google.com/notebooks/data_table.ipynb>data table notebook</a>'\n",
              "            + ' to learn more about interactive tables.';\n",
              "          element.innerHTML = '';\n",
              "          dataTable['output_type'] = 'display_data';\n",
              "          await google.colab.output.renderOutput(dataTable, element);\n",
              "          const docLink = document.createElement('div');\n",
              "          docLink.innerHTML = docLinkHtml;\n",
              "          element.appendChild(docLink);\n",
              "        }\n",
              "      </script>\n",
              "    </div>\n",
              "  </div>\n",
              "  "
            ]
          },
          "metadata": {},
          "execution_count": 60
        }
      ]
    },
    {
      "cell_type": "code",
      "source": [
        "# move the 1st row (index=0) to headers\n",
        "\n",
        "headers = df.iloc[0,:]\n",
        "df.columns = headers \n",
        "df = df.loc[1:]\n",
        "\n",
        "print(df.shape)\n",
        "df.head()"
      ],
      "metadata": {
        "colab": {
          "base_uri": "https://localhost:8080/",
          "height": 225
        },
        "id": "8d8UYciC9zBM",
        "outputId": "e1303d48-05c0-486f-d731-f85cada0e32a"
      },
      "execution_count": 61,
      "outputs": [
        {
          "output_type": "stream",
          "name": "stdout",
          "text": [
            "(21, 9)\n"
          ]
        },
        {
          "output_type": "execute_result",
          "data": {
            "text/plain": [
              "0     Name Orange Banana Apples Kiwi        Total   NaN   NaN   NaN\n",
              "1     Alex      7      8     11    4  =SUM(B2:E2)  None  None  None\n",
              "2     Sean     11     10      3    7  =SUM(B3:E3)  None  None  None\n",
              "3   Marina      1      1      5   10  =SUM(B4:E4)  None  None  None\n",
              "4     Jess     10      6      5    2  =SUM(B5:E5)  None  None  None\n",
              "5  Nicolas      7      3      2    6  =SUM(B6:E6)  None  None  None"
            ],
            "text/html": [
              "\n",
              "  <div id=\"df-0fb03fca-5bc3-4d13-ae23-7106c727f06b\">\n",
              "    <div class=\"colab-df-container\">\n",
              "      <div>\n",
              "<style scoped>\n",
              "    .dataframe tbody tr th:only-of-type {\n",
              "        vertical-align: middle;\n",
              "    }\n",
              "\n",
              "    .dataframe tbody tr th {\n",
              "        vertical-align: top;\n",
              "    }\n",
              "\n",
              "    .dataframe thead th {\n",
              "        text-align: right;\n",
              "    }\n",
              "</style>\n",
              "<table border=\"1\" class=\"dataframe\">\n",
              "  <thead>\n",
              "    <tr style=\"text-align: right;\">\n",
              "      <th></th>\n",
              "      <th>Name</th>\n",
              "      <th>Orange</th>\n",
              "      <th>Banana</th>\n",
              "      <th>Apples</th>\n",
              "      <th>Kiwi</th>\n",
              "      <th>Total</th>\n",
              "      <th>NaN</th>\n",
              "      <th>NaN</th>\n",
              "      <th>NaN</th>\n",
              "    </tr>\n",
              "  </thead>\n",
              "  <tbody>\n",
              "    <tr>\n",
              "      <th>1</th>\n",
              "      <td>Alex</td>\n",
              "      <td>7</td>\n",
              "      <td>8</td>\n",
              "      <td>11</td>\n",
              "      <td>4</td>\n",
              "      <td>=SUM(B2:E2)</td>\n",
              "      <td>None</td>\n",
              "      <td>None</td>\n",
              "      <td>None</td>\n",
              "    </tr>\n",
              "    <tr>\n",
              "      <th>2</th>\n",
              "      <td>Sean</td>\n",
              "      <td>11</td>\n",
              "      <td>10</td>\n",
              "      <td>3</td>\n",
              "      <td>7</td>\n",
              "      <td>=SUM(B3:E3)</td>\n",
              "      <td>None</td>\n",
              "      <td>None</td>\n",
              "      <td>None</td>\n",
              "    </tr>\n",
              "    <tr>\n",
              "      <th>3</th>\n",
              "      <td>Marina</td>\n",
              "      <td>1</td>\n",
              "      <td>1</td>\n",
              "      <td>5</td>\n",
              "      <td>10</td>\n",
              "      <td>=SUM(B4:E4)</td>\n",
              "      <td>None</td>\n",
              "      <td>None</td>\n",
              "      <td>None</td>\n",
              "    </tr>\n",
              "    <tr>\n",
              "      <th>4</th>\n",
              "      <td>Jess</td>\n",
              "      <td>10</td>\n",
              "      <td>6</td>\n",
              "      <td>5</td>\n",
              "      <td>2</td>\n",
              "      <td>=SUM(B5:E5)</td>\n",
              "      <td>None</td>\n",
              "      <td>None</td>\n",
              "      <td>None</td>\n",
              "    </tr>\n",
              "    <tr>\n",
              "      <th>5</th>\n",
              "      <td>Nicolas</td>\n",
              "      <td>7</td>\n",
              "      <td>3</td>\n",
              "      <td>2</td>\n",
              "      <td>6</td>\n",
              "      <td>=SUM(B6:E6)</td>\n",
              "      <td>None</td>\n",
              "      <td>None</td>\n",
              "      <td>None</td>\n",
              "    </tr>\n",
              "  </tbody>\n",
              "</table>\n",
              "</div>\n",
              "      <button class=\"colab-df-convert\" onclick=\"convertToInteractive('df-0fb03fca-5bc3-4d13-ae23-7106c727f06b')\"\n",
              "              title=\"Convert this dataframe to an interactive table.\"\n",
              "              style=\"display:none;\">\n",
              "        \n",
              "  <svg xmlns=\"http://www.w3.org/2000/svg\" height=\"24px\"viewBox=\"0 0 24 24\"\n",
              "       width=\"24px\">\n",
              "    <path d=\"M0 0h24v24H0V0z\" fill=\"none\"/>\n",
              "    <path d=\"M18.56 5.44l.94 2.06.94-2.06 2.06-.94-2.06-.94-.94-2.06-.94 2.06-2.06.94zm-11 1L8.5 8.5l.94-2.06 2.06-.94-2.06-.94L8.5 2.5l-.94 2.06-2.06.94zm10 10l.94 2.06.94-2.06 2.06-.94-2.06-.94-.94-2.06-.94 2.06-2.06.94z\"/><path d=\"M17.41 7.96l-1.37-1.37c-.4-.4-.92-.59-1.43-.59-.52 0-1.04.2-1.43.59L10.3 9.45l-7.72 7.72c-.78.78-.78 2.05 0 2.83L4 21.41c.39.39.9.59 1.41.59.51 0 1.02-.2 1.41-.59l7.78-7.78 2.81-2.81c.8-.78.8-2.07 0-2.86zM5.41 20L4 18.59l7.72-7.72 1.47 1.35L5.41 20z\"/>\n",
              "  </svg>\n",
              "      </button>\n",
              "      \n",
              "  <style>\n",
              "    .colab-df-container {\n",
              "      display:flex;\n",
              "      flex-wrap:wrap;\n",
              "      gap: 12px;\n",
              "    }\n",
              "\n",
              "    .colab-df-convert {\n",
              "      background-color: #E8F0FE;\n",
              "      border: none;\n",
              "      border-radius: 50%;\n",
              "      cursor: pointer;\n",
              "      display: none;\n",
              "      fill: #1967D2;\n",
              "      height: 32px;\n",
              "      padding: 0 0 0 0;\n",
              "      width: 32px;\n",
              "    }\n",
              "\n",
              "    .colab-df-convert:hover {\n",
              "      background-color: #E2EBFA;\n",
              "      box-shadow: 0px 1px 2px rgba(60, 64, 67, 0.3), 0px 1px 3px 1px rgba(60, 64, 67, 0.15);\n",
              "      fill: #174EA6;\n",
              "    }\n",
              "\n",
              "    [theme=dark] .colab-df-convert {\n",
              "      background-color: #3B4455;\n",
              "      fill: #D2E3FC;\n",
              "    }\n",
              "\n",
              "    [theme=dark] .colab-df-convert:hover {\n",
              "      background-color: #434B5C;\n",
              "      box-shadow: 0px 1px 3px 1px rgba(0, 0, 0, 0.15);\n",
              "      filter: drop-shadow(0px 1px 2px rgba(0, 0, 0, 0.3));\n",
              "      fill: #FFFFFF;\n",
              "    }\n",
              "  </style>\n",
              "\n",
              "      <script>\n",
              "        const buttonEl =\n",
              "          document.querySelector('#df-0fb03fca-5bc3-4d13-ae23-7106c727f06b button.colab-df-convert');\n",
              "        buttonEl.style.display =\n",
              "          google.colab.kernel.accessAllowed ? 'block' : 'none';\n",
              "\n",
              "        async function convertToInteractive(key) {\n",
              "          const element = document.querySelector('#df-0fb03fca-5bc3-4d13-ae23-7106c727f06b');\n",
              "          const dataTable =\n",
              "            await google.colab.kernel.invokeFunction('convertToInteractive',\n",
              "                                                     [key], {});\n",
              "          if (!dataTable) return;\n",
              "\n",
              "          const docLinkHtml = 'Like what you see? Visit the ' +\n",
              "            '<a target=\"_blank\" href=https://colab.research.google.com/notebooks/data_table.ipynb>data table notebook</a>'\n",
              "            + ' to learn more about interactive tables.';\n",
              "          element.innerHTML = '';\n",
              "          dataTable['output_type'] = 'display_data';\n",
              "          await google.colab.output.renderOutput(dataTable, element);\n",
              "          const docLink = document.createElement('div');\n",
              "          docLink.innerHTML = docLinkHtml;\n",
              "          element.appendChild(docLink);\n",
              "        }\n",
              "      </script>\n",
              "    </div>\n",
              "  </div>\n",
              "  "
            ]
          },
          "metadata": {},
          "execution_count": 61
        }
      ]
    },
    {
      "cell_type": "code",
      "source": [
        "# drop None values\n",
        "\n",
        "df.dropna(how='all', axis=1, inplace=True)\n",
        "df.dropna(how='all', axis=0, inplace=True)\n",
        "\n",
        "print(df.shape)\n",
        "# remove own index with default index\n",
        "df.reset_index(inplace = True, drop = True)\n",
        "\n",
        "df.head()\n"
      ],
      "metadata": {
        "colab": {
          "base_uri": "https://localhost:8080/",
          "height": 225
        },
        "id": "iDifIgKVAPTS",
        "outputId": "749b4ec1-6ada-458e-8dd4-a0f77b72b0df"
      },
      "execution_count": 62,
      "outputs": [
        {
          "output_type": "stream",
          "name": "stdout",
          "text": [
            "(19, 6)\n"
          ]
        },
        {
          "output_type": "execute_result",
          "data": {
            "text/plain": [
              "0     Name Orange Banana Apples Kiwi        Total\n",
              "0     Alex      7      8     11    4  =SUM(B2:E2)\n",
              "1     Sean     11     10      3    7  =SUM(B3:E3)\n",
              "2   Marina      1      1      5   10  =SUM(B4:E4)\n",
              "3     Jess     10      6      5    2  =SUM(B5:E5)\n",
              "4  Nicolas      7      3      2    6  =SUM(B6:E6)"
            ],
            "text/html": [
              "\n",
              "  <div id=\"df-f9b2e33f-5590-4fdb-b43f-7fd4213da068\">\n",
              "    <div class=\"colab-df-container\">\n",
              "      <div>\n",
              "<style scoped>\n",
              "    .dataframe tbody tr th:only-of-type {\n",
              "        vertical-align: middle;\n",
              "    }\n",
              "\n",
              "    .dataframe tbody tr th {\n",
              "        vertical-align: top;\n",
              "    }\n",
              "\n",
              "    .dataframe thead th {\n",
              "        text-align: right;\n",
              "    }\n",
              "</style>\n",
              "<table border=\"1\" class=\"dataframe\">\n",
              "  <thead>\n",
              "    <tr style=\"text-align: right;\">\n",
              "      <th></th>\n",
              "      <th>Name</th>\n",
              "      <th>Orange</th>\n",
              "      <th>Banana</th>\n",
              "      <th>Apples</th>\n",
              "      <th>Kiwi</th>\n",
              "      <th>Total</th>\n",
              "    </tr>\n",
              "  </thead>\n",
              "  <tbody>\n",
              "    <tr>\n",
              "      <th>0</th>\n",
              "      <td>Alex</td>\n",
              "      <td>7</td>\n",
              "      <td>8</td>\n",
              "      <td>11</td>\n",
              "      <td>4</td>\n",
              "      <td>=SUM(B2:E2)</td>\n",
              "    </tr>\n",
              "    <tr>\n",
              "      <th>1</th>\n",
              "      <td>Sean</td>\n",
              "      <td>11</td>\n",
              "      <td>10</td>\n",
              "      <td>3</td>\n",
              "      <td>7</td>\n",
              "      <td>=SUM(B3:E3)</td>\n",
              "    </tr>\n",
              "    <tr>\n",
              "      <th>2</th>\n",
              "      <td>Marina</td>\n",
              "      <td>1</td>\n",
              "      <td>1</td>\n",
              "      <td>5</td>\n",
              "      <td>10</td>\n",
              "      <td>=SUM(B4:E4)</td>\n",
              "    </tr>\n",
              "    <tr>\n",
              "      <th>3</th>\n",
              "      <td>Jess</td>\n",
              "      <td>10</td>\n",
              "      <td>6</td>\n",
              "      <td>5</td>\n",
              "      <td>2</td>\n",
              "      <td>=SUM(B5:E5)</td>\n",
              "    </tr>\n",
              "    <tr>\n",
              "      <th>4</th>\n",
              "      <td>Nicolas</td>\n",
              "      <td>7</td>\n",
              "      <td>3</td>\n",
              "      <td>2</td>\n",
              "      <td>6</td>\n",
              "      <td>=SUM(B6:E6)</td>\n",
              "    </tr>\n",
              "  </tbody>\n",
              "</table>\n",
              "</div>\n",
              "      <button class=\"colab-df-convert\" onclick=\"convertToInteractive('df-f9b2e33f-5590-4fdb-b43f-7fd4213da068')\"\n",
              "              title=\"Convert this dataframe to an interactive table.\"\n",
              "              style=\"display:none;\">\n",
              "        \n",
              "  <svg xmlns=\"http://www.w3.org/2000/svg\" height=\"24px\"viewBox=\"0 0 24 24\"\n",
              "       width=\"24px\">\n",
              "    <path d=\"M0 0h24v24H0V0z\" fill=\"none\"/>\n",
              "    <path d=\"M18.56 5.44l.94 2.06.94-2.06 2.06-.94-2.06-.94-.94-2.06-.94 2.06-2.06.94zm-11 1L8.5 8.5l.94-2.06 2.06-.94-2.06-.94L8.5 2.5l-.94 2.06-2.06.94zm10 10l.94 2.06.94-2.06 2.06-.94-2.06-.94-.94-2.06-.94 2.06-2.06.94z\"/><path d=\"M17.41 7.96l-1.37-1.37c-.4-.4-.92-.59-1.43-.59-.52 0-1.04.2-1.43.59L10.3 9.45l-7.72 7.72c-.78.78-.78 2.05 0 2.83L4 21.41c.39.39.9.59 1.41.59.51 0 1.02-.2 1.41-.59l7.78-7.78 2.81-2.81c.8-.78.8-2.07 0-2.86zM5.41 20L4 18.59l7.72-7.72 1.47 1.35L5.41 20z\"/>\n",
              "  </svg>\n",
              "      </button>\n",
              "      \n",
              "  <style>\n",
              "    .colab-df-container {\n",
              "      display:flex;\n",
              "      flex-wrap:wrap;\n",
              "      gap: 12px;\n",
              "    }\n",
              "\n",
              "    .colab-df-convert {\n",
              "      background-color: #E8F0FE;\n",
              "      border: none;\n",
              "      border-radius: 50%;\n",
              "      cursor: pointer;\n",
              "      display: none;\n",
              "      fill: #1967D2;\n",
              "      height: 32px;\n",
              "      padding: 0 0 0 0;\n",
              "      width: 32px;\n",
              "    }\n",
              "\n",
              "    .colab-df-convert:hover {\n",
              "      background-color: #E2EBFA;\n",
              "      box-shadow: 0px 1px 2px rgba(60, 64, 67, 0.3), 0px 1px 3px 1px rgba(60, 64, 67, 0.15);\n",
              "      fill: #174EA6;\n",
              "    }\n",
              "\n",
              "    [theme=dark] .colab-df-convert {\n",
              "      background-color: #3B4455;\n",
              "      fill: #D2E3FC;\n",
              "    }\n",
              "\n",
              "    [theme=dark] .colab-df-convert:hover {\n",
              "      background-color: #434B5C;\n",
              "      box-shadow: 0px 1px 3px 1px rgba(0, 0, 0, 0.15);\n",
              "      filter: drop-shadow(0px 1px 2px rgba(0, 0, 0, 0.3));\n",
              "      fill: #FFFFFF;\n",
              "    }\n",
              "  </style>\n",
              "\n",
              "      <script>\n",
              "        const buttonEl =\n",
              "          document.querySelector('#df-f9b2e33f-5590-4fdb-b43f-7fd4213da068 button.colab-df-convert');\n",
              "        buttonEl.style.display =\n",
              "          google.colab.kernel.accessAllowed ? 'block' : 'none';\n",
              "\n",
              "        async function convertToInteractive(key) {\n",
              "          const element = document.querySelector('#df-f9b2e33f-5590-4fdb-b43f-7fd4213da068');\n",
              "          const dataTable =\n",
              "            await google.colab.kernel.invokeFunction('convertToInteractive',\n",
              "                                                     [key], {});\n",
              "          if (!dataTable) return;\n",
              "\n",
              "          const docLinkHtml = 'Like what you see? Visit the ' +\n",
              "            '<a target=\"_blank\" href=https://colab.research.google.com/notebooks/data_table.ipynb>data table notebook</a>'\n",
              "            + ' to learn more about interactive tables.';\n",
              "          element.innerHTML = '';\n",
              "          dataTable['output_type'] = 'display_data';\n",
              "          await google.colab.output.renderOutput(dataTable, element);\n",
              "          const docLink = document.createElement('div');\n",
              "          docLink.innerHTML = docLinkHtml;\n",
              "          element.appendChild(docLink);\n",
              "        }\n",
              "      </script>\n",
              "    </div>\n",
              "  </div>\n",
              "  "
            ]
          },
          "metadata": {},
          "execution_count": 62
        }
      ]
    },
    {
      "cell_type": "code",
      "source": [
        "# compute Total Column\n",
        "# select columns to sum with iloc (from column Orange with index 1 to column Kiwi with index=5)\n",
        "\n",
        "df['Total'] = df.iloc[:,1:5].sum(axis=1)\n",
        "df"
      ],
      "metadata": {
        "colab": {
          "base_uri": "https://localhost:8080/",
          "height": 645
        },
        "id": "caYMRVc0Aw6_",
        "outputId": "100518d5-16c8-4f28-af7d-16f2022ed29e"
      },
      "execution_count": 63,
      "outputs": [
        {
          "output_type": "execute_result",
          "data": {
            "text/plain": [
              "0      Name        Orange        Banana        Apples          Kiwi  \\\n",
              "0      Alex             7             8            11             4   \n",
              "1      Sean            11            10             3             7   \n",
              "2    Marina             1             1             5            10   \n",
              "3      Jess            10             6             5             2   \n",
              "4   Nicolas             7             3             2             6   \n",
              "5   Winston             9            10             2             4   \n",
              "6     Peter             8             4             2             8   \n",
              "7    Monica             1             8             6             9   \n",
              "8    Rachel             4             6            11             9   \n",
              "9      Lisa             7             9             8            10   \n",
              "10     Greg             7             8            11             4   \n",
              "11      Dan            10             6             5             2   \n",
              "12  Abagail             7             3             2             6   \n",
              "13      Leo             9            10             2             4   \n",
              "14     John             2             1             3             1   \n",
              "15     Mark             4             2             3             1   \n",
              "16      Eva             5             7             3             2   \n",
              "17      Tom          None             2             3             2   \n",
              "18    Total  =SUM(B2:B19)  =SUM(C2:C19)  =SUM(D2:D19)  =SUM(E2:E19)   \n",
              "\n",
              "0                                              Total  \n",
              "0                                                 30  \n",
              "1                                                 31  \n",
              "2                                                 17  \n",
              "3                                                 23  \n",
              "4                                                 18  \n",
              "5                                                 25  \n",
              "6                                                 22  \n",
              "7                                                 24  \n",
              "8                                                 30  \n",
              "9                                                 34  \n",
              "10                                                30  \n",
              "11                                                23  \n",
              "12                                                18  \n",
              "13                                                25  \n",
              "14                                                 7  \n",
              "15                                                10  \n",
              "16                                                17  \n",
              "17                                                 7  \n",
              "18  =SUM(B2:B19)=SUM(C2:C19)=SUM(D2:D19)=SUM(E2:E19)  "
            ],
            "text/html": [
              "\n",
              "  <div id=\"df-7b9517c5-deca-4c85-a321-027ba13a3003\">\n",
              "    <div class=\"colab-df-container\">\n",
              "      <div>\n",
              "<style scoped>\n",
              "    .dataframe tbody tr th:only-of-type {\n",
              "        vertical-align: middle;\n",
              "    }\n",
              "\n",
              "    .dataframe tbody tr th {\n",
              "        vertical-align: top;\n",
              "    }\n",
              "\n",
              "    .dataframe thead th {\n",
              "        text-align: right;\n",
              "    }\n",
              "</style>\n",
              "<table border=\"1\" class=\"dataframe\">\n",
              "  <thead>\n",
              "    <tr style=\"text-align: right;\">\n",
              "      <th></th>\n",
              "      <th>Name</th>\n",
              "      <th>Orange</th>\n",
              "      <th>Banana</th>\n",
              "      <th>Apples</th>\n",
              "      <th>Kiwi</th>\n",
              "      <th>Total</th>\n",
              "    </tr>\n",
              "  </thead>\n",
              "  <tbody>\n",
              "    <tr>\n",
              "      <th>0</th>\n",
              "      <td>Alex</td>\n",
              "      <td>7</td>\n",
              "      <td>8</td>\n",
              "      <td>11</td>\n",
              "      <td>4</td>\n",
              "      <td>30</td>\n",
              "    </tr>\n",
              "    <tr>\n",
              "      <th>1</th>\n",
              "      <td>Sean</td>\n",
              "      <td>11</td>\n",
              "      <td>10</td>\n",
              "      <td>3</td>\n",
              "      <td>7</td>\n",
              "      <td>31</td>\n",
              "    </tr>\n",
              "    <tr>\n",
              "      <th>2</th>\n",
              "      <td>Marina</td>\n",
              "      <td>1</td>\n",
              "      <td>1</td>\n",
              "      <td>5</td>\n",
              "      <td>10</td>\n",
              "      <td>17</td>\n",
              "    </tr>\n",
              "    <tr>\n",
              "      <th>3</th>\n",
              "      <td>Jess</td>\n",
              "      <td>10</td>\n",
              "      <td>6</td>\n",
              "      <td>5</td>\n",
              "      <td>2</td>\n",
              "      <td>23</td>\n",
              "    </tr>\n",
              "    <tr>\n",
              "      <th>4</th>\n",
              "      <td>Nicolas</td>\n",
              "      <td>7</td>\n",
              "      <td>3</td>\n",
              "      <td>2</td>\n",
              "      <td>6</td>\n",
              "      <td>18</td>\n",
              "    </tr>\n",
              "    <tr>\n",
              "      <th>5</th>\n",
              "      <td>Winston</td>\n",
              "      <td>9</td>\n",
              "      <td>10</td>\n",
              "      <td>2</td>\n",
              "      <td>4</td>\n",
              "      <td>25</td>\n",
              "    </tr>\n",
              "    <tr>\n",
              "      <th>6</th>\n",
              "      <td>Peter</td>\n",
              "      <td>8</td>\n",
              "      <td>4</td>\n",
              "      <td>2</td>\n",
              "      <td>8</td>\n",
              "      <td>22</td>\n",
              "    </tr>\n",
              "    <tr>\n",
              "      <th>7</th>\n",
              "      <td>Monica</td>\n",
              "      <td>1</td>\n",
              "      <td>8</td>\n",
              "      <td>6</td>\n",
              "      <td>9</td>\n",
              "      <td>24</td>\n",
              "    </tr>\n",
              "    <tr>\n",
              "      <th>8</th>\n",
              "      <td>Rachel</td>\n",
              "      <td>4</td>\n",
              "      <td>6</td>\n",
              "      <td>11</td>\n",
              "      <td>9</td>\n",
              "      <td>30</td>\n",
              "    </tr>\n",
              "    <tr>\n",
              "      <th>9</th>\n",
              "      <td>Lisa</td>\n",
              "      <td>7</td>\n",
              "      <td>9</td>\n",
              "      <td>8</td>\n",
              "      <td>10</td>\n",
              "      <td>34</td>\n",
              "    </tr>\n",
              "    <tr>\n",
              "      <th>10</th>\n",
              "      <td>Greg</td>\n",
              "      <td>7</td>\n",
              "      <td>8</td>\n",
              "      <td>11</td>\n",
              "      <td>4</td>\n",
              "      <td>30</td>\n",
              "    </tr>\n",
              "    <tr>\n",
              "      <th>11</th>\n",
              "      <td>Dan</td>\n",
              "      <td>10</td>\n",
              "      <td>6</td>\n",
              "      <td>5</td>\n",
              "      <td>2</td>\n",
              "      <td>23</td>\n",
              "    </tr>\n",
              "    <tr>\n",
              "      <th>12</th>\n",
              "      <td>Abagail</td>\n",
              "      <td>7</td>\n",
              "      <td>3</td>\n",
              "      <td>2</td>\n",
              "      <td>6</td>\n",
              "      <td>18</td>\n",
              "    </tr>\n",
              "    <tr>\n",
              "      <th>13</th>\n",
              "      <td>Leo</td>\n",
              "      <td>9</td>\n",
              "      <td>10</td>\n",
              "      <td>2</td>\n",
              "      <td>4</td>\n",
              "      <td>25</td>\n",
              "    </tr>\n",
              "    <tr>\n",
              "      <th>14</th>\n",
              "      <td>John</td>\n",
              "      <td>2</td>\n",
              "      <td>1</td>\n",
              "      <td>3</td>\n",
              "      <td>1</td>\n",
              "      <td>7</td>\n",
              "    </tr>\n",
              "    <tr>\n",
              "      <th>15</th>\n",
              "      <td>Mark</td>\n",
              "      <td>4</td>\n",
              "      <td>2</td>\n",
              "      <td>3</td>\n",
              "      <td>1</td>\n",
              "      <td>10</td>\n",
              "    </tr>\n",
              "    <tr>\n",
              "      <th>16</th>\n",
              "      <td>Eva</td>\n",
              "      <td>5</td>\n",
              "      <td>7</td>\n",
              "      <td>3</td>\n",
              "      <td>2</td>\n",
              "      <td>17</td>\n",
              "    </tr>\n",
              "    <tr>\n",
              "      <th>17</th>\n",
              "      <td>Tom</td>\n",
              "      <td>None</td>\n",
              "      <td>2</td>\n",
              "      <td>3</td>\n",
              "      <td>2</td>\n",
              "      <td>7</td>\n",
              "    </tr>\n",
              "    <tr>\n",
              "      <th>18</th>\n",
              "      <td>Total</td>\n",
              "      <td>=SUM(B2:B19)</td>\n",
              "      <td>=SUM(C2:C19)</td>\n",
              "      <td>=SUM(D2:D19)</td>\n",
              "      <td>=SUM(E2:E19)</td>\n",
              "      <td>=SUM(B2:B19)=SUM(C2:C19)=SUM(D2:D19)=SUM(E2:E19)</td>\n",
              "    </tr>\n",
              "  </tbody>\n",
              "</table>\n",
              "</div>\n",
              "      <button class=\"colab-df-convert\" onclick=\"convertToInteractive('df-7b9517c5-deca-4c85-a321-027ba13a3003')\"\n",
              "              title=\"Convert this dataframe to an interactive table.\"\n",
              "              style=\"display:none;\">\n",
              "        \n",
              "  <svg xmlns=\"http://www.w3.org/2000/svg\" height=\"24px\"viewBox=\"0 0 24 24\"\n",
              "       width=\"24px\">\n",
              "    <path d=\"M0 0h24v24H0V0z\" fill=\"none\"/>\n",
              "    <path d=\"M18.56 5.44l.94 2.06.94-2.06 2.06-.94-2.06-.94-.94-2.06-.94 2.06-2.06.94zm-11 1L8.5 8.5l.94-2.06 2.06-.94-2.06-.94L8.5 2.5l-.94 2.06-2.06.94zm10 10l.94 2.06.94-2.06 2.06-.94-2.06-.94-.94-2.06-.94 2.06-2.06.94z\"/><path d=\"M17.41 7.96l-1.37-1.37c-.4-.4-.92-.59-1.43-.59-.52 0-1.04.2-1.43.59L10.3 9.45l-7.72 7.72c-.78.78-.78 2.05 0 2.83L4 21.41c.39.39.9.59 1.41.59.51 0 1.02-.2 1.41-.59l7.78-7.78 2.81-2.81c.8-.78.8-2.07 0-2.86zM5.41 20L4 18.59l7.72-7.72 1.47 1.35L5.41 20z\"/>\n",
              "  </svg>\n",
              "      </button>\n",
              "      \n",
              "  <style>\n",
              "    .colab-df-container {\n",
              "      display:flex;\n",
              "      flex-wrap:wrap;\n",
              "      gap: 12px;\n",
              "    }\n",
              "\n",
              "    .colab-df-convert {\n",
              "      background-color: #E8F0FE;\n",
              "      border: none;\n",
              "      border-radius: 50%;\n",
              "      cursor: pointer;\n",
              "      display: none;\n",
              "      fill: #1967D2;\n",
              "      height: 32px;\n",
              "      padding: 0 0 0 0;\n",
              "      width: 32px;\n",
              "    }\n",
              "\n",
              "    .colab-df-convert:hover {\n",
              "      background-color: #E2EBFA;\n",
              "      box-shadow: 0px 1px 2px rgba(60, 64, 67, 0.3), 0px 1px 3px 1px rgba(60, 64, 67, 0.15);\n",
              "      fill: #174EA6;\n",
              "    }\n",
              "\n",
              "    [theme=dark] .colab-df-convert {\n",
              "      background-color: #3B4455;\n",
              "      fill: #D2E3FC;\n",
              "    }\n",
              "\n",
              "    [theme=dark] .colab-df-convert:hover {\n",
              "      background-color: #434B5C;\n",
              "      box-shadow: 0px 1px 3px 1px rgba(0, 0, 0, 0.15);\n",
              "      filter: drop-shadow(0px 1px 2px rgba(0, 0, 0, 0.3));\n",
              "      fill: #FFFFFF;\n",
              "    }\n",
              "  </style>\n",
              "\n",
              "      <script>\n",
              "        const buttonEl =\n",
              "          document.querySelector('#df-7b9517c5-deca-4c85-a321-027ba13a3003 button.colab-df-convert');\n",
              "        buttonEl.style.display =\n",
              "          google.colab.kernel.accessAllowed ? 'block' : 'none';\n",
              "\n",
              "        async function convertToInteractive(key) {\n",
              "          const element = document.querySelector('#df-7b9517c5-deca-4c85-a321-027ba13a3003');\n",
              "          const dataTable =\n",
              "            await google.colab.kernel.invokeFunction('convertToInteractive',\n",
              "                                                     [key], {});\n",
              "          if (!dataTable) return;\n",
              "\n",
              "          const docLinkHtml = 'Like what you see? Visit the ' +\n",
              "            '<a target=\"_blank\" href=https://colab.research.google.com/notebooks/data_table.ipynb>data table notebook</a>'\n",
              "            + ' to learn more about interactive tables.';\n",
              "          element.innerHTML = '';\n",
              "          dataTable['output_type'] = 'display_data';\n",
              "          await google.colab.output.renderOutput(dataTable, element);\n",
              "          const docLink = document.createElement('div');\n",
              "          docLink.innerHTML = docLinkHtml;\n",
              "          element.appendChild(docLink);\n",
              "        }\n",
              "      </script>\n",
              "    </div>\n",
              "  </div>\n",
              "  "
            ]
          },
          "metadata": {},
          "execution_count": 63
        }
      ]
    },
    {
      "cell_type": "code",
      "source": [
        "# row Total\n",
        "\n",
        "df.iloc[18,1:6] = df.iloc[:17,1:6].sum(axis=0) # axis 0 meaning column axis\n",
        "\n",
        "df.tail()\n"
      ],
      "metadata": {
        "colab": {
          "base_uri": "https://localhost:8080/",
          "height": 206
        },
        "id": "KpZeGiuYBuLd",
        "outputId": "dc236baf-fa6f-44e9-bff7-a31cdf6c8c5c"
      },
      "execution_count": 64,
      "outputs": [
        {
          "output_type": "execute_result",
          "data": {
            "text/plain": [
              "0    Name Orange Banana Apples Kiwi Total\n",
              "14   John      2      1      3    1     7\n",
              "15   Mark      4      2      3    1    10\n",
              "16    Eva      5      7      3    2    17\n",
              "17    Tom   None      2      3    2     7\n",
              "18  Total    109    102     84   89   384"
            ],
            "text/html": [
              "\n",
              "  <div id=\"df-11b2a0df-e054-4448-bb21-0a4a46724b4d\">\n",
              "    <div class=\"colab-df-container\">\n",
              "      <div>\n",
              "<style scoped>\n",
              "    .dataframe tbody tr th:only-of-type {\n",
              "        vertical-align: middle;\n",
              "    }\n",
              "\n",
              "    .dataframe tbody tr th {\n",
              "        vertical-align: top;\n",
              "    }\n",
              "\n",
              "    .dataframe thead th {\n",
              "        text-align: right;\n",
              "    }\n",
              "</style>\n",
              "<table border=\"1\" class=\"dataframe\">\n",
              "  <thead>\n",
              "    <tr style=\"text-align: right;\">\n",
              "      <th></th>\n",
              "      <th>Name</th>\n",
              "      <th>Orange</th>\n",
              "      <th>Banana</th>\n",
              "      <th>Apples</th>\n",
              "      <th>Kiwi</th>\n",
              "      <th>Total</th>\n",
              "    </tr>\n",
              "  </thead>\n",
              "  <tbody>\n",
              "    <tr>\n",
              "      <th>14</th>\n",
              "      <td>John</td>\n",
              "      <td>2</td>\n",
              "      <td>1</td>\n",
              "      <td>3</td>\n",
              "      <td>1</td>\n",
              "      <td>7</td>\n",
              "    </tr>\n",
              "    <tr>\n",
              "      <th>15</th>\n",
              "      <td>Mark</td>\n",
              "      <td>4</td>\n",
              "      <td>2</td>\n",
              "      <td>3</td>\n",
              "      <td>1</td>\n",
              "      <td>10</td>\n",
              "    </tr>\n",
              "    <tr>\n",
              "      <th>16</th>\n",
              "      <td>Eva</td>\n",
              "      <td>5</td>\n",
              "      <td>7</td>\n",
              "      <td>3</td>\n",
              "      <td>2</td>\n",
              "      <td>17</td>\n",
              "    </tr>\n",
              "    <tr>\n",
              "      <th>17</th>\n",
              "      <td>Tom</td>\n",
              "      <td>None</td>\n",
              "      <td>2</td>\n",
              "      <td>3</td>\n",
              "      <td>2</td>\n",
              "      <td>7</td>\n",
              "    </tr>\n",
              "    <tr>\n",
              "      <th>18</th>\n",
              "      <td>Total</td>\n",
              "      <td>109</td>\n",
              "      <td>102</td>\n",
              "      <td>84</td>\n",
              "      <td>89</td>\n",
              "      <td>384</td>\n",
              "    </tr>\n",
              "  </tbody>\n",
              "</table>\n",
              "</div>\n",
              "      <button class=\"colab-df-convert\" onclick=\"convertToInteractive('df-11b2a0df-e054-4448-bb21-0a4a46724b4d')\"\n",
              "              title=\"Convert this dataframe to an interactive table.\"\n",
              "              style=\"display:none;\">\n",
              "        \n",
              "  <svg xmlns=\"http://www.w3.org/2000/svg\" height=\"24px\"viewBox=\"0 0 24 24\"\n",
              "       width=\"24px\">\n",
              "    <path d=\"M0 0h24v24H0V0z\" fill=\"none\"/>\n",
              "    <path d=\"M18.56 5.44l.94 2.06.94-2.06 2.06-.94-2.06-.94-.94-2.06-.94 2.06-2.06.94zm-11 1L8.5 8.5l.94-2.06 2.06-.94-2.06-.94L8.5 2.5l-.94 2.06-2.06.94zm10 10l.94 2.06.94-2.06 2.06-.94-2.06-.94-.94-2.06-.94 2.06-2.06.94z\"/><path d=\"M17.41 7.96l-1.37-1.37c-.4-.4-.92-.59-1.43-.59-.52 0-1.04.2-1.43.59L10.3 9.45l-7.72 7.72c-.78.78-.78 2.05 0 2.83L4 21.41c.39.39.9.59 1.41.59.51 0 1.02-.2 1.41-.59l7.78-7.78 2.81-2.81c.8-.78.8-2.07 0-2.86zM5.41 20L4 18.59l7.72-7.72 1.47 1.35L5.41 20z\"/>\n",
              "  </svg>\n",
              "      </button>\n",
              "      \n",
              "  <style>\n",
              "    .colab-df-container {\n",
              "      display:flex;\n",
              "      flex-wrap:wrap;\n",
              "      gap: 12px;\n",
              "    }\n",
              "\n",
              "    .colab-df-convert {\n",
              "      background-color: #E8F0FE;\n",
              "      border: none;\n",
              "      border-radius: 50%;\n",
              "      cursor: pointer;\n",
              "      display: none;\n",
              "      fill: #1967D2;\n",
              "      height: 32px;\n",
              "      padding: 0 0 0 0;\n",
              "      width: 32px;\n",
              "    }\n",
              "\n",
              "    .colab-df-convert:hover {\n",
              "      background-color: #E2EBFA;\n",
              "      box-shadow: 0px 1px 2px rgba(60, 64, 67, 0.3), 0px 1px 3px 1px rgba(60, 64, 67, 0.15);\n",
              "      fill: #174EA6;\n",
              "    }\n",
              "\n",
              "    [theme=dark] .colab-df-convert {\n",
              "      background-color: #3B4455;\n",
              "      fill: #D2E3FC;\n",
              "    }\n",
              "\n",
              "    [theme=dark] .colab-df-convert:hover {\n",
              "      background-color: #434B5C;\n",
              "      box-shadow: 0px 1px 3px 1px rgba(0, 0, 0, 0.15);\n",
              "      filter: drop-shadow(0px 1px 2px rgba(0, 0, 0, 0.3));\n",
              "      fill: #FFFFFF;\n",
              "    }\n",
              "  </style>\n",
              "\n",
              "      <script>\n",
              "        const buttonEl =\n",
              "          document.querySelector('#df-11b2a0df-e054-4448-bb21-0a4a46724b4d button.colab-df-convert');\n",
              "        buttonEl.style.display =\n",
              "          google.colab.kernel.accessAllowed ? 'block' : 'none';\n",
              "\n",
              "        async function convertToInteractive(key) {\n",
              "          const element = document.querySelector('#df-11b2a0df-e054-4448-bb21-0a4a46724b4d');\n",
              "          const dataTable =\n",
              "            await google.colab.kernel.invokeFunction('convertToInteractive',\n",
              "                                                     [key], {});\n",
              "          if (!dataTable) return;\n",
              "\n",
              "          const docLinkHtml = 'Like what you see? Visit the ' +\n",
              "            '<a target=\"_blank\" href=https://colab.research.google.com/notebooks/data_table.ipynb>data table notebook</a>'\n",
              "            + ' to learn more about interactive tables.';\n",
              "          element.innerHTML = '';\n",
              "          dataTable['output_type'] = 'display_data';\n",
              "          await google.colab.output.renderOutput(dataTable, element);\n",
              "          const docLink = document.createElement('div');\n",
              "          docLink.innerHTML = docLinkHtml;\n",
              "          element.appendChild(docLink);\n",
              "        }\n",
              "      </script>\n",
              "    </div>\n",
              "  </div>\n",
              "  "
            ]
          },
          "metadata": {},
          "execution_count": 64
        }
      ]
    },
    {
      "cell_type": "code",
      "source": [
        "# copute the range of the whole dataframe \n",
        "max_row, max_col = df.shape\n",
        "print(max_row, max_col)\n",
        "\n",
        "df_range = xl_range(0,0, max_row, max_col - 1)\n",
        "print(df_range)"
      ],
      "metadata": {
        "colab": {
          "base_uri": "https://localhost:8080/"
        },
        "id": "StEU79wtCPxZ",
        "outputId": "cd25b928-1158-4c4d-b687-07a2417d5352"
      },
      "execution_count": 65,
      "outputs": [
        {
          "output_type": "stream",
          "name": "stdout",
          "text": [
            "19 6\n",
            "A1:F20\n"
          ]
        }
      ]
    },
    {
      "cell_type": "code",
      "source": [
        "# start indices\n",
        "start = xl_rowcol_to_cell(0,0)\n",
        "start_col = xl_col_to_name(0)\n",
        "start_row = 0\n",
        "print(\"start point:\", start, \n",
        "      \"start_row:\", start_row,      \n",
        "      \"start col:\", start_col)"
      ],
      "metadata": {
        "colab": {
          "base_uri": "https://localhost:8080/"
        },
        "id": "m9KSa_SZFZjs",
        "outputId": "61187203-8edf-46e5-8a52-27eebf98f952"
      },
      "execution_count": 66,
      "outputs": [
        {
          "output_type": "stream",
          "name": "stdout",
          "text": [
            "start point: A1 start_row: 0 start col: A\n"
          ]
        }
      ]
    },
    {
      "cell_type": "code",
      "source": [
        "# end indices\n",
        "end_point = xl_rowcol_to_cell(max_row, max_col-1)\n",
        "end_col = xl_col_to_name(max_col-1)\n",
        "end_row = max_row + 1\n",
        "print(\"end point:\", end_point, \n",
        "      \"end_row:\", end_row,      \n",
        "      \"end col:\", end_col)"
      ],
      "metadata": {
        "colab": {
          "base_uri": "https://localhost:8080/"
        },
        "id": "fw9xgRswFtPL",
        "outputId": "bfb93cb9-ee8f-45ab-c39b-594d311a277f"
      },
      "execution_count": 67,
      "outputs": [
        {
          "output_type": "stream",
          "name": "stdout",
          "text": [
            "end point: F20 end_row: 20 end col: F\n"
          ]
        }
      ]
    },
    {
      "cell_type": "code",
      "source": [
        " # write df into excel\n",
        " \n",
        "# create an excel object\n",
        "# writing DataFrame objects into excel sheets.\n",
        "writer = pd.ExcelWriter('Groceries_Formated.xlsx', engine='xlsxwriter',\n",
        "                        datetime_format='d mmm yy', \n",
        "                        date_format='d mmm yy')\n",
        "\n",
        "# write the df in the excel object\n",
        "df.to_excel(writer, # excel object\n",
        "            sheet_name= 'Groceries' , # sheet name\n",
        "            index=False, # add or not indexes in the excel\n",
        "            startrow=0, # starting what row to copy\n",
        "            startcol=0) # starting what column to copy\n",
        "\n",
        "# download the excel object in the workbook in order to manipulate its sheets\n",
        "workbook = writer.book\n",
        "worksheet = writer.sheets['Groceries']\n",
        "\n",
        "#  resize the sheet by adjusting the zoom\n",
        "worksheet.set_zoom(60)"
      ],
      "metadata": {
        "id": "KYwU6bP3Fx2w"
      },
      "execution_count": 68,
      "outputs": []
    },
    {
      "cell_type": "code",
      "source": [
        "os.listdir()"
      ],
      "metadata": {
        "colab": {
          "base_uri": "https://localhost:8080/"
        },
        "id": "uaTrjQYkJqRw",
        "outputId": "aa7abfa0-f1c7-416b-e798-719c909a1259"
      },
      "execution_count": 69,
      "outputs": [
        {
          "output_type": "execute_result",
          "data": {
            "text/plain": [
              "['DE.xlsx',\n",
              " 'FR.xlsx',\n",
              " 'Groceries.xlsx',\n",
              " 'Python',\n",
              " 'Folder',\n",
              " 'Consolidation_HR',\n",
              " 'Consolidation_HR\\\\Consolidated_by_sheet.xlsx',\n",
              " 'UK.xlsx',\n",
              " 'Excel_processing_Basics.ipynb',\n",
              " 'Files_Manipulation.ipynb',\n",
              " 'Python.ipynb',\n",
              " 'Groceries_1.xlsx',\n",
              " 'Groceries_Formated.xlsx']"
            ]
          },
          "metadata": {},
          "execution_count": 69
        }
      ]
    },
    {
      "cell_type": "code",
      "source": [
        "for col_num, value in enumerate(df.columns.values):\n",
        "    print(col_num, value)"
      ],
      "metadata": {
        "colab": {
          "base_uri": "https://localhost:8080/"
        },
        "id": "mEEXFjnHHNdy",
        "outputId": "79a232b7-4c30-44ae-dd58-27106e38d04e"
      },
      "execution_count": 70,
      "outputs": [
        {
          "output_type": "stream",
          "name": "stdout",
          "text": [
            "0 Name\n",
            "1 Orange\n",
            "2 Banana\n",
            "3 Apples\n",
            "4 Kiwi\n",
            "5 Total\n"
          ]
        }
      ]
    },
    {
      "cell_type": "code",
      "source": [
        "# Add a header format.\n",
        "\n",
        "# define what format you want to apply\n",
        "header_format = workbook.add_format({\n",
        "    'bold': True,\n",
        "    'text_wrap': True,\n",
        "    'valign': 'top',\n",
        "    'fg_color': '#D7E4BC',\n",
        "    'border': 1})\n",
        "\n",
        "# Write the column headers with the defined format.\n",
        "for col_num, value in enumerate(df.columns.values):\n",
        "    worksheet.write(0, # on what row\n",
        "                    col_num, # which column\n",
        "                    value, # value to write\n",
        "                    header_format) # format to apply\n",
        "\n"
      ],
      "metadata": {
        "id": "0lFv7HJjHAQ9"
      },
      "execution_count": 71,
      "outputs": []
    },
    {
      "cell_type": "code",
      "source": [
        "# save the excel object\n",
        "# writer.save()\n",
        "# workbook.close()  # close the workbook"
      ],
      "metadata": {
        "id": "0g5yqvnQIEp6"
      },
      "execution_count": 72,
      "outputs": []
    },
    {
      "cell_type": "markdown",
      "source": [
        "# Charts"
      ],
      "metadata": {
        "id": "LyNn9Ra4LqQA"
      }
    },
    {
      "cell_type": "code",
      "source": [
        "# Create a stacked chart sub-type.\n",
        "#\n",
        "chart2 = workbook.add_chart({'type': 'column', 'subtype': 'stacked'})\n",
        "\n",
        "# Configure the first series.\n",
        "chart2.add_series({\n",
        "    'name':       '=Groceries!$B$1', # oranges\n",
        "    'categories': '=Groceries!$A$2:$A$17',\n",
        "    'values':     '=Groceries!$B$2:$B$17',\n",
        "    'data_labels': {'value': False,\n",
        "                    'font': {'bold': False,\n",
        "                             'size': 10,\n",
        "                             'color': 'black',\n",
        "                             'rotation': -30}},\n",
        "    'fill': {'color': 'lime', 'transparency': 20}\n",
        "})\n",
        "\n",
        "# Configure second series.\n",
        "chart2.add_series({\n",
        "    'name':       '=Groceries!$C$1', # banana\n",
        "    'categories': '=Groceries!$A$2:$A$17',\n",
        "    'values':     '=Groceries!$C$2:$C$17',\n",
        "    'data_labels': {'value': False,\n",
        "                    'font': {'bold': False,\n",
        "                             'size': 10,\n",
        "                             'color': 'black',\n",
        "                             'rotation': -30}},\n",
        "    'fill': {'color': 'red', 'transparency': 20}\n",
        "})\n",
        "\n",
        "# Configure 3rd series.\n",
        "chart2.add_series({\n",
        "    'name':       '=Groceries!$D$1', # apples\n",
        "    'categories': '=Groceries!$A$2:$A$17',\n",
        "    'values':     '=Groceries!$D$2:$D$7',\n",
        "    'data_labels': {'value': True,\n",
        "                    'font': {'bold': False,\n",
        "                             'size': 10,\n",
        "                             'color': 'black',\n",
        "                             'rotation': -30}},\n",
        "    'fill': {'color': 'blue', 'transparency': 20}\n",
        "})\n",
        "\n",
        "# Configure 4th series.\n",
        "chart2.add_series({\n",
        "    'name':       '=Groceries!$E$1', # kiwi\n",
        "    'categories': '=Groceries!$A$2:$A$17',\n",
        "    'values':     '=Groceries!$E$2:$E$7',\n",
        "    'data_labels': {'value': True,\n",
        "                    'font': {'bold': False,\n",
        "                             'size': 10,\n",
        "                             'color': 'black',\n",
        "                             'rotation': -30}},\n",
        "    'fill': {'color': 'green', 'transparency': 20}\n",
        "})\n",
        "\n",
        "# Add a chart title and some axis labels.\n",
        "chart2.set_title ({'name': 'Stacked Chart'})\n",
        "chart2.set_x_axis({'name': 'Names'})\n",
        "chart2.set_y_axis({'name': 'Fruits'})\n",
        "\n",
        "# Set an Excel chart style.\n",
        "chart2.set_style(12)\n",
        "\n",
        "\n",
        "\n",
        "chart2.set_x_axis({\n",
        "    'name': 'Fruits per Name',\n",
        "    'name_font': {'size': 14, 'bold': True},\n",
        "    'num_font':  {'italic': True },\n",
        "})\n",
        "\n",
        "chart2.set_legend({'position': 'bottom'})\n",
        "\n",
        "\n",
        "# Insert the chart into the worksheet.\n",
        "worksheet.insert_chart('H2', chart2)\n",
        "\n",
        "# Insert the chart into the worksheet (with an offset).\n",
        "# worksheet.insert_chart('H2', chart2, {'x_offset': 25, 'y_offset': 10})\n"
      ],
      "metadata": {
        "colab": {
          "base_uri": "https://localhost:8080/"
        },
        "id": "GVvJ2ZonIwUg",
        "outputId": "7a11197a-67c0-499f-e0b4-84f10926a199"
      },
      "execution_count": 73,
      "outputs": [
        {
          "output_type": "execute_result",
          "data": {
            "text/plain": [
              "0"
            ]
          },
          "metadata": {},
          "execution_count": 73
        }
      ]
    },
    {
      "cell_type": "code",
      "source": [
        "writer.save()\n",
        "workbook.close()"
      ],
      "metadata": {
        "colab": {
          "base_uri": "https://localhost:8080/"
        },
        "id": "yt-jL9g_M8UY",
        "outputId": "0a56012a-fde4-46e9-f18c-5f2ec49e2706"
      },
      "execution_count": 74,
      "outputs": [
        {
          "output_type": "stream",
          "name": "stderr",
          "text": [
            "/usr/local/lib/python3.7/dist-packages/xlsxwriter/workbook.py:339: UserWarning: Calling close() on already closed file.\n",
            "  warn(\"Calling close() on already closed file.\")\n"
          ]
        }
      ]
    },
    {
      "cell_type": "code",
      "source": [],
      "metadata": {
        "id": "yFWpjw7KNNss"
      },
      "execution_count": 74,
      "outputs": []
    }
  ]
}